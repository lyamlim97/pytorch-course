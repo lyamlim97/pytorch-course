{
 "cells": [
  {
   "cell_type": "markdown",
   "metadata": {
    "colab_type": "text",
    "id": "view-in-github"
   },
   "source": [
    "<a href=\"https://colab.research.google.com/github/mrdbourke/pytorch-deep-learning/blob/main/extras/exercises/03_pytorch_computer_vision_exercises.ipynb\" target=\"_parent\"><img src=\"https://colab.research.google.com/assets/colab-badge.svg\" alt=\"Open In Colab\"/></a>"
   ]
  },
  {
   "cell_type": "markdown",
   "metadata": {
    "id": "Vex99np2wFVt"
   },
   "source": [
    "# 03. PyTorch Computer Vision Exercises\n",
    "\n",
    "The following is a collection of exercises based on computer vision fundamentals in PyTorch.\n",
    "\n",
    "They're a bunch of fun.\n",
    "\n",
    "You're going to get to write plenty of code!\n",
    "\n",
    "## Resources\n",
    "\n",
    "1. These exercises are based on [notebook 03 of the Learn PyTorch for Deep Learning course](https://www.learnpytorch.io/03_pytorch_computer_vision/). \n",
    "2. See a live [walkthrough of the solutions (errors and all) on YouTube](https://youtu.be/_PibmqpEyhA). \n",
    "  * **Note:** Going through these exercises took me just over 3 hours of solid coding, so you should expect around the same.\n",
    "3. See [other solutions on the course GitHub](https://github.com/mrdbourke/pytorch-deep-learning/tree/main/extras/solutions)."
   ]
  },
  {
   "cell_type": "code",
   "execution_count": 1,
   "metadata": {
    "colab": {
     "base_uri": "https://localhost:8080/"
    },
    "id": "GaeYzOTLwWh2",
    "outputId": "17dd5453-9639-4b01-aa18-7ddbfd5c3253"
   },
   "outputs": [
    {
     "name": "stdout",
     "output_type": "stream",
     "text": [
      "Mon May  1 16:50:21 2023       \n",
      "+---------------------------------------------------------------------------------------+\n",
      "| NVIDIA-SMI 531.18                 Driver Version: 531.18       CUDA Version: 12.1     |\n",
      "|-----------------------------------------+----------------------+----------------------+\n",
      "| GPU  Name                      TCC/WDDM | Bus-Id        Disp.A | Volatile Uncorr. ECC |\n",
      "| Fan  Temp  Perf            Pwr:Usage/Cap|         Memory-Usage | GPU-Util  Compute M. |\n",
      "|                                         |                      |               MIG M. |\n",
      "|=========================================+======================+======================|\n",
      "|   0  NVIDIA GeForce GTX 1060 w...  WDDM | 00000000:01:00.0  On |                  N/A |\n",
      "| N/A   62C    P8                7W /  N/A|    926MiB /  6144MiB |      0%      Default |\n",
      "|                                         |                      |                  N/A |\n",
      "+-----------------------------------------+----------------------+----------------------+\n",
      "                                                                                         \n",
      "+---------------------------------------------------------------------------------------+\n",
      "| Processes:                                                                            |\n",
      "|  GPU   GI   CI        PID   Type   Process name                            GPU Memory |\n",
      "|        ID   ID                                                             Usage      |\n",
      "|=======================================================================================|\n",
      "|    0   N/A  N/A      8500    C+G   ...rPicker\\PowerToys.ColorPickerUI.exe    N/A      |\n",
      "|    0   N/A  N/A      8520    C+G   ...FancyZones\\PowerToys.FancyZones.exe    N/A      |\n",
      "|    0   N/A  N/A     10852      C   ...yenv-win\\versions\\3.9.13\\python.exe    N/A      |\n",
      "|    0   N/A  N/A     12104    C+G   ...auncher\\PowerToys.PowerLauncher.exe    N/A      |\n",
      "+---------------------------------------------------------------------------------------+\n"
     ]
    }
   ],
   "source": [
    "# Check for GPU\n",
    "!nvidia-smi\n"
   ]
  },
  {
   "cell_type": "code",
   "execution_count": 2,
   "metadata": {
    "colab": {
     "base_uri": "https://localhost:8080/",
     "height": 53
    },
    "id": "DNwZLMbCzJLk",
    "outputId": "9c150c50-a092-4f34-9d33-b45247fb080d"
   },
   "outputs": [
    {
     "name": "stdout",
     "output_type": "stream",
     "text": [
      "2.0.0+cu118\n"
     ]
    },
    {
     "data": {
      "text/plain": [
       "'cuda'"
      ]
     },
     "execution_count": 2,
     "metadata": {},
     "output_type": "execute_result"
    }
   ],
   "source": [
    "# Import torch\n",
    "import torch\n",
    "\n",
    "# Exercises require PyTorch > 1.10.0\n",
    "print(torch.__version__)\n",
    "\n",
    "# Setup device agnostic code\n",
    "device = \"cuda\" if torch.cuda.is_available() else \"cpu\"\n",
    "device\n"
   ]
  },
  {
   "cell_type": "markdown",
   "metadata": {
    "id": "FSFX7tc1w-en"
   },
   "source": [
    "## 1. What are 3 areas in industry where computer vision is currently being used?"
   ]
  },
  {
   "attachments": {},
   "cell_type": "markdown",
   "metadata": {
    "id": "VyWRkvWGbCXj"
   },
   "source": [
    "1. Self-driving cars such as Tesla\n",
    "\n",
    "2. Car number plate detection for parking\n",
    "\n",
    "3. Healthcare imaging, interpreting X-rays"
   ]
  },
  {
   "cell_type": "markdown",
   "metadata": {
    "id": "oBK-WI6YxDYa"
   },
   "source": [
    "## 2. Search \"what is overfitting in machine learning\" and write down a sentence about what you find. "
   ]
  },
  {
   "attachments": {},
   "cell_type": "markdown",
   "metadata": {
    "id": "d1rxD6GObCqh"
   },
   "source": [
    "Overfitting refers to a model that models the training data too well.\n",
    "\n",
    "Overfitting happens when a model learns the detail and noise in the training data to the extent that it negatively impacts the performance of the model on new data. This means that the noise or random fluctuations in the training data is picked up and learned as concepts by the model. The problem is that these concepts do not apply to new data and negatively impact the models ability to generalize."
   ]
  },
  {
   "cell_type": "markdown",
   "metadata": {
    "id": "XeYFEqw8xK26"
   },
   "source": [
    "## 3. Search \"ways to prevent overfitting in machine learning\", write down 3 of the things you find and a sentence about each. \n",
    "> **Note:** there are lots of these, so don't worry too much about all of them, just pick 3 and start with those."
   ]
  },
  {
   "attachments": {},
   "cell_type": "markdown",
   "metadata": {
    "id": "ocvOdWKcbEKr"
   },
   "source": [
    "1. **Cross-validation** -\n",
    "Cross-validation is a powerful preventative measure against overfitting.\n",
    "The idea is clever: Use your initial training data to generate multiple mini train-test splits. Use these splits to tune your model.\n",
    "In standard k-fold cross-validation, we partition the data into k subsets, called folds. Then, we iteratively train the algorithm on k-1 folds while using the remaining fold as the test set (called the \u201choldout fold\u201d).\n",
    "\n",
    "2. **Train with more data** -\n",
    "It won\u2019t work every time, but training with more data can help algorithms detect the signal better. In the earlier example of modeling height vs. age in children, it\u2019s clear how sampling more schools will help your model.\n",
    "Of course, that\u2019s not always the case. If we just add more noisy data, this technique won\u2019t help. That\u2019s why you should always ensure your data is clean and relevant.\n",
    "\n",
    "3. **Regularization** -\n",
    "Regularization refers to a broad range of techniques for artificially forcing your model to be simpler.\n",
    "The method will depend on the type of learner you\u2019re using. For example, you could prune a decision tree, use dropout on a neural network, or add a penalty parameter to the cost function in regression.\n",
    "Oftentimes, the regularization method is a hyperparameter as well, which means it can be tuned through cross-validation."
   ]
  },
  {
   "cell_type": "markdown",
   "metadata": {
    "id": "DKdEEFEqxM-8"
   },
   "source": [
    "## 4. Spend 20-minutes reading and clicking through the [CNN Explainer website](https://poloclub.github.io/cnn-explainer/).\n",
    "\n",
    "* Upload your own example image using the \"upload\" button on the website and see what happens in each layer of a CNN as your image passes through it."
   ]
  },
  {
   "cell_type": "markdown",
   "metadata": {
    "id": "lvf-3pODxXYI"
   },
   "source": [
    "## 5. Load the [`torchvision.datasets.MNIST()`](https://pytorch.org/vision/stable/generated/torchvision.datasets.MNIST.html#torchvision.datasets.MNIST) train and test datasets."
   ]
  },
  {
   "cell_type": "code",
   "execution_count": 3,
   "metadata": {
    "id": "SHjeuN81bHza"
   },
   "outputs": [],
   "source": [
    "import torchvision\n",
    "from torchvision import datasets\n",
    "from torchvision import transforms\n"
   ]
  },
  {
   "cell_type": "code",
   "execution_count": 4,
   "metadata": {},
   "outputs": [
    {
     "name": "stdout",
     "output_type": "stream",
     "text": [
      "Downloading http://yann.lecun.com/exdb/mnist/train-images-idx3-ubyte.gz\n",
      "Downloading http://yann.lecun.com/exdb/mnist/train-images-idx3-ubyte.gz to .\\MNIST\\raw\\train-images-idx3-ubyte.gz\n"
     ]
    },
    {
     "name": "stderr",
     "output_type": "stream",
     "text": [
      "100%|\u2588\u2588\u2588\u2588\u2588\u2588\u2588\u2588\u2588\u2588| 9912422/9912422 [00:02<00:00, 4574942.69it/s]\n"
     ]
    },
    {
     "name": "stdout",
     "output_type": "stream",
     "text": [
      "Extracting .\\MNIST\\raw\\train-images-idx3-ubyte.gz to .\\MNIST\\raw\n",
      "\n",
      "Downloading http://yann.lecun.com/exdb/mnist/train-labels-idx1-ubyte.gz\n",
      "Downloading http://yann.lecun.com/exdb/mnist/train-labels-idx1-ubyte.gz to .\\MNIST\\raw\\train-labels-idx1-ubyte.gz\n"
     ]
    },
    {
     "name": "stderr",
     "output_type": "stream",
     "text": [
      "100%|\u2588\u2588\u2588\u2588\u2588\u2588\u2588\u2588\u2588\u2588| 28881/28881 [00:00<00:00, 28786999.48it/s]"
     ]
    },
    {
     "name": "stdout",
     "output_type": "stream",
     "text": [
      "Extracting .\\MNIST\\raw\\train-labels-idx1-ubyte.gz to .\\MNIST\\raw\n",
      "\n",
      "Downloading http://yann.lecun.com/exdb/mnist/t10k-images-idx3-ubyte.gz\n",
      "Downloading http://yann.lecun.com/exdb/mnist/t10k-images-idx3-ubyte.gz to .\\MNIST\\raw\\t10k-images-idx3-ubyte.gz\n"
     ]
    },
    {
     "name": "stderr",
     "output_type": "stream",
     "text": [
      "\n",
      "100%|\u2588\u2588\u2588\u2588\u2588\u2588\u2588\u2588\u2588\u2588| 1648877/1648877 [00:00<00:00, 7263126.97it/s]\n"
     ]
    },
    {
     "name": "stdout",
     "output_type": "stream",
     "text": [
      "Extracting .\\MNIST\\raw\\t10k-images-idx3-ubyte.gz to .\\MNIST\\raw\n",
      "\n",
      "Downloading http://yann.lecun.com/exdb/mnist/t10k-labels-idx1-ubyte.gz\n",
      "Downloading http://yann.lecun.com/exdb/mnist/t10k-labels-idx1-ubyte.gz to .\\MNIST\\raw\\t10k-labels-idx1-ubyte.gz\n"
     ]
    },
    {
     "name": "stderr",
     "output_type": "stream",
     "text": [
      "100%|\u2588\u2588\u2588\u2588\u2588\u2588\u2588\u2588\u2588\u2588| 4542/4542 [00:00<00:00, 4542329.22it/s]"
     ]
    },
    {
     "name": "stdout",
     "output_type": "stream",
     "text": [
      "Extracting .\\MNIST\\raw\\t10k-labels-idx1-ubyte.gz to .\\MNIST\\raw\n",
      "\n"
     ]
    },
    {
     "name": "stderr",
     "output_type": "stream",
     "text": [
      "\n"
     ]
    }
   ],
   "source": [
    "# Get the MNIST train dataset\n",
    "train_data = datasets.MNIST(\n",
    "    root=\".\", train=True, download=True, transform=transforms.ToTensor()\n",
    ")  # do we want to transform the data as we download it?\n",
    "\n",
    "# Get the MNIST test dataset\n",
    "test_data = datasets.MNIST(root=\".\", train=False, download=True, transform=transforms.ToTensor())\n"
   ]
  },
  {
   "cell_type": "code",
   "execution_count": 5,
   "metadata": {},
   "outputs": [
    {
     "data": {
      "text/plain": [
       "(Dataset MNIST\n",
       "     Number of datapoints: 60000\n",
       "     Root location: .\n",
       "     Split: Train\n",
       "     StandardTransform\n",
       " Transform: ToTensor(),\n",
       " Dataset MNIST\n",
       "     Number of datapoints: 10000\n",
       "     Root location: .\n",
       "     Split: Test\n",
       "     StandardTransform\n",
       " Transform: ToTensor())"
      ]
     },
     "execution_count": 5,
     "metadata": {},
     "output_type": "execute_result"
    }
   ],
   "source": [
    "train_data, test_data\n"
   ]
  },
  {
   "cell_type": "code",
   "execution_count": 6,
   "metadata": {},
   "outputs": [
    {
     "data": {
      "text/plain": [
       "(60000, 10000)"
      ]
     },
     "execution_count": 6,
     "metadata": {},
     "output_type": "execute_result"
    }
   ],
   "source": [
    "len(train_data), len(test_data)\n"
   ]
  },
  {
   "cell_type": "code",
   "execution_count": 7,
   "metadata": {},
   "outputs": [
    {
     "name": "stdout",
     "output_type": "stream",
     "text": [
      "Image:\n",
      " tensor([[[0.0000, 0.0000, 0.0000, 0.0000, 0.0000, 0.0000, 0.0000, 0.0000,\n",
      "          0.0000, 0.0000, 0.0000, 0.0000, 0.0000, 0.0000, 0.0000, 0.0000,\n",
      "          0.0000, 0.0000, 0.0000, 0.0000, 0.0000, 0.0000, 0.0000, 0.0000,\n",
      "          0.0000, 0.0000, 0.0000, 0.0000],\n",
      "         [0.0000, 0.0000, 0.0000, 0.0000, 0.0000, 0.0000, 0.0000, 0.0000,\n",
      "          0.0000, 0.0000, 0.0000, 0.0000, 0.0000, 0.0000, 0.0000, 0.0000,\n",
      "          0.0000, 0.0000, 0.0000, 0.0000, 0.0000, 0.0000, 0.0000, 0.0000,\n",
      "          0.0000, 0.0000, 0.0000, 0.0000],\n",
      "         [0.0000, 0.0000, 0.0000, 0.0000, 0.0000, 0.0000, 0.0000, 0.0000,\n",
      "          0.0000, 0.0000, 0.0000, 0.0000, 0.0000, 0.0000, 0.0000, 0.0000,\n",
      "          0.0000, 0.0000, 0.0000, 0.0000, 0.0000, 0.0000, 0.0000, 0.0000,\n",
      "          0.0000, 0.0000, 0.0000, 0.0000],\n",
      "         [0.0000, 0.0000, 0.0000, 0.0000, 0.0000, 0.0000, 0.0000, 0.0000,\n",
      "          0.0000, 0.0000, 0.0000, 0.0000, 0.0000, 0.0000, 0.0000, 0.0000,\n",
      "          0.0000, 0.0000, 0.0000, 0.0000, 0.0000, 0.0000, 0.0000, 0.0000,\n",
      "          0.0000, 0.0000, 0.0000, 0.0000],\n",
      "         [0.0000, 0.0000, 0.0000, 0.0000, 0.0000, 0.0000, 0.0000, 0.0000,\n",
      "          0.0000, 0.0000, 0.0000, 0.0000, 0.0000, 0.0000, 0.0000, 0.0000,\n",
      "          0.0000, 0.0000, 0.0000, 0.0000, 0.0000, 0.0000, 0.0000, 0.0000,\n",
      "          0.0000, 0.0000, 0.0000, 0.0000],\n",
      "         [0.0000, 0.0000, 0.0000, 0.0000, 0.0000, 0.0000, 0.0000, 0.0000,\n",
      "          0.0000, 0.0000, 0.0000, 0.0000, 0.0118, 0.0706, 0.0706, 0.0706,\n",
      "          0.4941, 0.5333, 0.6863, 0.1020, 0.6510, 1.0000, 0.9686, 0.4980,\n",
      "          0.0000, 0.0000, 0.0000, 0.0000],\n",
      "         [0.0000, 0.0000, 0.0000, 0.0000, 0.0000, 0.0000, 0.0000, 0.0000,\n",
      "          0.1176, 0.1412, 0.3686, 0.6039, 0.6667, 0.9922, 0.9922, 0.9922,\n",
      "          0.9922, 0.9922, 0.8824, 0.6745, 0.9922, 0.9490, 0.7647, 0.2510,\n",
      "          0.0000, 0.0000, 0.0000, 0.0000],\n",
      "         [0.0000, 0.0000, 0.0000, 0.0000, 0.0000, 0.0000, 0.0000, 0.1922,\n",
      "          0.9333, 0.9922, 0.9922, 0.9922, 0.9922, 0.9922, 0.9922, 0.9922,\n",
      "          0.9922, 0.9843, 0.3647, 0.3216, 0.3216, 0.2196, 0.1529, 0.0000,\n",
      "          0.0000, 0.0000, 0.0000, 0.0000],\n",
      "         [0.0000, 0.0000, 0.0000, 0.0000, 0.0000, 0.0000, 0.0000, 0.0706,\n",
      "          0.8588, 0.9922, 0.9922, 0.9922, 0.9922, 0.9922, 0.7765, 0.7137,\n",
      "          0.9686, 0.9451, 0.0000, 0.0000, 0.0000, 0.0000, 0.0000, 0.0000,\n",
      "          0.0000, 0.0000, 0.0000, 0.0000],\n",
      "         [0.0000, 0.0000, 0.0000, 0.0000, 0.0000, 0.0000, 0.0000, 0.0000,\n",
      "          0.3137, 0.6118, 0.4196, 0.9922, 0.9922, 0.8039, 0.0431, 0.0000,\n",
      "          0.1686, 0.6039, 0.0000, 0.0000, 0.0000, 0.0000, 0.0000, 0.0000,\n",
      "          0.0000, 0.0000, 0.0000, 0.0000],\n",
      "         [0.0000, 0.0000, 0.0000, 0.0000, 0.0000, 0.0000, 0.0000, 0.0000,\n",
      "          0.0000, 0.0549, 0.0039, 0.6039, 0.9922, 0.3529, 0.0000, 0.0000,\n",
      "          0.0000, 0.0000, 0.0000, 0.0000, 0.0000, 0.0000, 0.0000, 0.0000,\n",
      "          0.0000, 0.0000, 0.0000, 0.0000],\n",
      "         [0.0000, 0.0000, 0.0000, 0.0000, 0.0000, 0.0000, 0.0000, 0.0000,\n",
      "          0.0000, 0.0000, 0.0000, 0.5451, 0.9922, 0.7451, 0.0078, 0.0000,\n",
      "          0.0000, 0.0000, 0.0000, 0.0000, 0.0000, 0.0000, 0.0000, 0.0000,\n",
      "          0.0000, 0.0000, 0.0000, 0.0000],\n",
      "         [0.0000, 0.0000, 0.0000, 0.0000, 0.0000, 0.0000, 0.0000, 0.0000,\n",
      "          0.0000, 0.0000, 0.0000, 0.0431, 0.7451, 0.9922, 0.2745, 0.0000,\n",
      "          0.0000, 0.0000, 0.0000, 0.0000, 0.0000, 0.0000, 0.0000, 0.0000,\n",
      "          0.0000, 0.0000, 0.0000, 0.0000],\n",
      "         [0.0000, 0.0000, 0.0000, 0.0000, 0.0000, 0.0000, 0.0000, 0.0000,\n",
      "          0.0000, 0.0000, 0.0000, 0.0000, 0.1373, 0.9451, 0.8824, 0.6275,\n",
      "          0.4235, 0.0039, 0.0000, 0.0000, 0.0000, 0.0000, 0.0000, 0.0000,\n",
      "          0.0000, 0.0000, 0.0000, 0.0000],\n",
      "         [0.0000, 0.0000, 0.0000, 0.0000, 0.0000, 0.0000, 0.0000, 0.0000,\n",
      "          0.0000, 0.0000, 0.0000, 0.0000, 0.0000, 0.3176, 0.9412, 0.9922,\n",
      "          0.9922, 0.4667, 0.0980, 0.0000, 0.0000, 0.0000, 0.0000, 0.0000,\n",
      "          0.0000, 0.0000, 0.0000, 0.0000],\n",
      "         [0.0000, 0.0000, 0.0000, 0.0000, 0.0000, 0.0000, 0.0000, 0.0000,\n",
      "          0.0000, 0.0000, 0.0000, 0.0000, 0.0000, 0.0000, 0.1765, 0.7294,\n",
      "          0.9922, 0.9922, 0.5882, 0.1059, 0.0000, 0.0000, 0.0000, 0.0000,\n",
      "          0.0000, 0.0000, 0.0000, 0.0000],\n",
      "         [0.0000, 0.0000, 0.0000, 0.0000, 0.0000, 0.0000, 0.0000, 0.0000,\n",
      "          0.0000, 0.0000, 0.0000, 0.0000, 0.0000, 0.0000, 0.0000, 0.0627,\n",
      "          0.3647, 0.9882, 0.9922, 0.7333, 0.0000, 0.0000, 0.0000, 0.0000,\n",
      "          0.0000, 0.0000, 0.0000, 0.0000],\n",
      "         [0.0000, 0.0000, 0.0000, 0.0000, 0.0000, 0.0000, 0.0000, 0.0000,\n",
      "          0.0000, 0.0000, 0.0000, 0.0000, 0.0000, 0.0000, 0.0000, 0.0000,\n",
      "          0.0000, 0.9765, 0.9922, 0.9765, 0.2510, 0.0000, 0.0000, 0.0000,\n",
      "          0.0000, 0.0000, 0.0000, 0.0000],\n",
      "         [0.0000, 0.0000, 0.0000, 0.0000, 0.0000, 0.0000, 0.0000, 0.0000,\n",
      "          0.0000, 0.0000, 0.0000, 0.0000, 0.0000, 0.0000, 0.1804, 0.5098,\n",
      "          0.7176, 0.9922, 0.9922, 0.8118, 0.0078, 0.0000, 0.0000, 0.0000,\n",
      "          0.0000, 0.0000, 0.0000, 0.0000],\n",
      "         [0.0000, 0.0000, 0.0000, 0.0000, 0.0000, 0.0000, 0.0000, 0.0000,\n",
      "          0.0000, 0.0000, 0.0000, 0.0000, 0.1529, 0.5804, 0.8980, 0.9922,\n",
      "          0.9922, 0.9922, 0.9804, 0.7137, 0.0000, 0.0000, 0.0000, 0.0000,\n",
      "          0.0000, 0.0000, 0.0000, 0.0000],\n",
      "         [0.0000, 0.0000, 0.0000, 0.0000, 0.0000, 0.0000, 0.0000, 0.0000,\n",
      "          0.0000, 0.0000, 0.0941, 0.4471, 0.8667, 0.9922, 0.9922, 0.9922,\n",
      "          0.9922, 0.7882, 0.3059, 0.0000, 0.0000, 0.0000, 0.0000, 0.0000,\n",
      "          0.0000, 0.0000, 0.0000, 0.0000],\n",
      "         [0.0000, 0.0000, 0.0000, 0.0000, 0.0000, 0.0000, 0.0000, 0.0000,\n",
      "          0.0902, 0.2588, 0.8353, 0.9922, 0.9922, 0.9922, 0.9922, 0.7765,\n",
      "          0.3176, 0.0078, 0.0000, 0.0000, 0.0000, 0.0000, 0.0000, 0.0000,\n",
      "          0.0000, 0.0000, 0.0000, 0.0000],\n",
      "         [0.0000, 0.0000, 0.0000, 0.0000, 0.0000, 0.0000, 0.0706, 0.6706,\n",
      "          0.8588, 0.9922, 0.9922, 0.9922, 0.9922, 0.7647, 0.3137, 0.0353,\n",
      "          0.0000, 0.0000, 0.0000, 0.0000, 0.0000, 0.0000, 0.0000, 0.0000,\n",
      "          0.0000, 0.0000, 0.0000, 0.0000],\n",
      "         [0.0000, 0.0000, 0.0000, 0.0000, 0.2157, 0.6745, 0.8863, 0.9922,\n",
      "          0.9922, 0.9922, 0.9922, 0.9569, 0.5216, 0.0431, 0.0000, 0.0000,\n",
      "          0.0000, 0.0000, 0.0000, 0.0000, 0.0000, 0.0000, 0.0000, 0.0000,\n",
      "          0.0000, 0.0000, 0.0000, 0.0000],\n",
      "         [0.0000, 0.0000, 0.0000, 0.0000, 0.5333, 0.9922, 0.9922, 0.9922,\n",
      "          0.8314, 0.5294, 0.5176, 0.0627, 0.0000, 0.0000, 0.0000, 0.0000,\n",
      "          0.0000, 0.0000, 0.0000, 0.0000, 0.0000, 0.0000, 0.0000, 0.0000,\n",
      "          0.0000, 0.0000, 0.0000, 0.0000],\n",
      "         [0.0000, 0.0000, 0.0000, 0.0000, 0.0000, 0.0000, 0.0000, 0.0000,\n",
      "          0.0000, 0.0000, 0.0000, 0.0000, 0.0000, 0.0000, 0.0000, 0.0000,\n",
      "          0.0000, 0.0000, 0.0000, 0.0000, 0.0000, 0.0000, 0.0000, 0.0000,\n",
      "          0.0000, 0.0000, 0.0000, 0.0000],\n",
      "         [0.0000, 0.0000, 0.0000, 0.0000, 0.0000, 0.0000, 0.0000, 0.0000,\n",
      "          0.0000, 0.0000, 0.0000, 0.0000, 0.0000, 0.0000, 0.0000, 0.0000,\n",
      "          0.0000, 0.0000, 0.0000, 0.0000, 0.0000, 0.0000, 0.0000, 0.0000,\n",
      "          0.0000, 0.0000, 0.0000, 0.0000],\n",
      "         [0.0000, 0.0000, 0.0000, 0.0000, 0.0000, 0.0000, 0.0000, 0.0000,\n",
      "          0.0000, 0.0000, 0.0000, 0.0000, 0.0000, 0.0000, 0.0000, 0.0000,\n",
      "          0.0000, 0.0000, 0.0000, 0.0000, 0.0000, 0.0000, 0.0000, 0.0000,\n",
      "          0.0000, 0.0000, 0.0000, 0.0000]]])\n",
      "Label:\n",
      " 5\n"
     ]
    }
   ],
   "source": [
    "# Data is in tuple form (image, label)\n",
    "img = train_data[0][0]\n",
    "label = train_data[0][1]\n",
    "print(f\"Image:\\n {img}\")\n",
    "print(f\"Label:\\n {label}\")\n"
   ]
  },
  {
   "cell_type": "code",
   "execution_count": 8,
   "metadata": {},
   "outputs": [
    {
     "name": "stdout",
     "output_type": "stream",
     "text": [
      "Image shape: torch.Size([1, 28, 28]) -> [color_channels, height, width] (CHW)\n",
      "Label: 5 -> no shape, due to being integer\n"
     ]
    }
   ],
   "source": [
    "# Check out the shapes of our data\n",
    "print(f\"Image shape: {img.shape} -> [color_channels, height, width] (CHW)\")\n",
    "print(f\"Label: {label} -> no shape, due to being integer\")\n"
   ]
  },
  {
   "cell_type": "code",
   "execution_count": 9,
   "metadata": {},
   "outputs": [
    {
     "data": {
      "text/plain": [
       "['0 - zero',\n",
       " '1 - one',\n",
       " '2 - two',\n",
       " '3 - three',\n",
       " '4 - four',\n",
       " '5 - five',\n",
       " '6 - six',\n",
       " '7 - seven',\n",
       " '8 - eight',\n",
       " '9 - nine']"
      ]
     },
     "execution_count": 9,
     "metadata": {},
     "output_type": "execute_result"
    }
   ],
   "source": [
    "# Get the class names from the dataset\n",
    "class_names = train_data.classes\n",
    "class_names\n"
   ]
  },
  {
   "cell_type": "markdown",
   "metadata": {
    "id": "qxZW-uAbxe_F"
   },
   "source": [
    "## 6. Visualize at least 5 different samples of the MNIST training dataset."
   ]
  },
  {
   "cell_type": "code",
   "execution_count": 10,
   "metadata": {
    "id": "QVFsYi1PbItE"
   },
   "outputs": [
    {
     "name": "stdout",
     "output_type": "stream",
     "text": [
      "torch.Size([1, 28, 28])\n",
      "torch.Size([28, 28])\n",
      "torch.Size([1, 28, 28])\n",
      "torch.Size([28, 28])\n",
      "torch.Size([1, 28, 28])\n",
      "torch.Size([28, 28])\n",
      "torch.Size([1, 28, 28])\n",
      "torch.Size([28, 28])\n",
      "torch.Size([1, 28, 28])\n",
      "torch.Size([28, 28])\n"
     ]
    },
    {
     "data": {
      "image/png": "[encoded data removed]",
      "text/plain": [
       "<Figure size 300x300 with 1 Axes>"
      ]
     },
     "metadata": {},
     "output_type": "display_data"
    },
    {
     "data": {
      "image/png": "[encoded data removed]",
      "text/plain": [
       "<Figure size 300x300 with 1 Axes>"
      ]
     },
     "metadata": {},
     "output_type": "display_data"
    },
    {
     "data": {
      "image/png": "[encoded data removed]",
      "text/plain": [
       "<Figure size 300x300 with 1 Axes>"
      ]
     },
     "metadata": {},
     "output_type": "display_data"
    },
    {
     "data": {
      "image/png": "[encoded data removed]",
      "text/plain": [
       "<Figure size 300x300 with 1 Axes>"
      ]
     },
     "metadata": {},
     "output_type": "display_data"
    },
    {
     "data": {
      "image/png": "[encoded data removed]",
      "text/plain": [
       "<Figure size 300x300 with 1 Axes>"
      ]
     },
     "metadata": {},
     "output_type": "display_data"
    }
   ],
   "source": [
    "import matplotlib.pyplot as plt\n",
    "\n",
    "for i in range(5):\n",
    "    img = train_data[i][0]\n",
    "    print(img.shape)\n",
    "    img_squeeze = img.squeeze()\n",
    "    print(img_squeeze.shape)\n",
    "    label = train_data[i][1]\n",
    "    plt.figure(figsize=(3, 3))\n",
    "    plt.imshow(img_squeeze, cmap=\"gray\")\n",
    "    plt.title(label)\n",
    "    plt.axis(False)\n"
   ]
  },
  {
   "cell_type": "markdown",
   "metadata": {
    "id": "JAPDzW0wxhi3"
   },
   "source": [
    "## 7. Turn the MNIST train and test datasets into dataloaders using `torch.utils.data.DataLoader`, set the `batch_size=32`."
   ]
  },
  {
   "cell_type": "code",
   "execution_count": 11,
   "metadata": {
    "id": "ALA6MPcFbJXQ"
   },
   "outputs": [],
   "source": [
    "# Create train dataloader\n",
    "from torch.utils.data import DataLoader\n",
    "\n",
    "train_dataloader = DataLoader(dataset=train_data, batch_size=32, shuffle=True)\n",
    "\n",
    "test_dataloader = DataLoader(dataset=test_data, batch_size=32, shuffle=False)\n"
   ]
  },
  {
   "cell_type": "code",
   "execution_count": 12,
   "metadata": {},
   "outputs": [
    {
     "data": {
      "text/plain": [
       "(<torch.utils.data.dataloader.DataLoader at 0x20add9a3e80>,\n",
       " <torch.utils.data.dataloader.DataLoader at 0x20add9a39d0>)"
      ]
     },
     "execution_count": 12,
     "metadata": {},
     "output_type": "execute_result"
    }
   ],
   "source": [
    "train_dataloader, test_dataloader\n"
   ]
  },
  {
   "cell_type": "code",
   "execution_count": 13,
   "metadata": {},
   "outputs": [
    {
     "name": "stdout",
     "output_type": "stream",
     "text": [
      "torch.Size([32, 1, 28, 28])\n",
      "torch.Size([32])\n"
     ]
    }
   ],
   "source": [
    "for sample in next(iter(train_dataloader)):\n",
    "    print(sample.shape)\n"
   ]
  },
  {
   "cell_type": "code",
   "execution_count": 14,
   "metadata": {},
   "outputs": [
    {
     "data": {
      "text/plain": [
       "(1875, 313)"
      ]
     },
     "execution_count": 14,
     "metadata": {},
     "output_type": "execute_result"
    }
   ],
   "source": [
    "len(train_dataloader), len(test_dataloader)\n"
   ]
  },
  {
   "cell_type": "markdown",
   "metadata": {
    "id": "bCCVfXk5xjYS"
   },
   "source": [
    "## 8. Recreate `model_2` used in notebook 03 (the same model from the [CNN Explainer website](https://poloclub.github.io/cnn-explainer/), also known as TinyVGG) capable of fitting on the MNIST dataset."
   ]
  },
  {
   "cell_type": "code",
   "execution_count": 15,
   "metadata": {
    "id": "5IKNF22XbKYS"
   },
   "outputs": [],
   "source": [
    "from torch import nn\n",
    "\n",
    "\n",
    "class MNIST_model(torch.nn.Module):\n",
    "    \"\"\"Model capable of predicting on MNIST dataset.\"\"\"\n",
    "\n",
    "    def __init__(self, input_shape: int, hidden_units: int, output_shape: int):\n",
    "        super().__init__()\n",
    "        self.conv_block_1 = nn.Sequential(\n",
    "            nn.Conv2d(\n",
    "                in_channels=input_shape,\n",
    "                out_channels=hidden_units,\n",
    "                kernel_size=3,\n",
    "                stride=1,\n",
    "                padding=1,\n",
    "            ),\n",
    "            nn.ReLU(),\n",
    "            nn.Conv2d(\n",
    "                in_channels=hidden_units,\n",
    "                out_channels=hidden_units,\n",
    "                kernel_size=3,\n",
    "                stride=1,\n",
    "                padding=1,\n",
    "            ),\n",
    "            nn.ReLU(),\n",
    "            nn.MaxPool2d(kernel_size=2),\n",
    "        )\n",
    "        self.conv_block_2 = nn.Sequential(\n",
    "            nn.Conv2d(\n",
    "                in_channels=hidden_units,\n",
    "                out_channels=hidden_units,\n",
    "                kernel_size=3,\n",
    "                stride=1,\n",
    "                padding=1,\n",
    "            ),\n",
    "            nn.ReLU(),\n",
    "            nn.Conv2d(\n",
    "                in_channels=hidden_units,\n",
    "                out_channels=hidden_units,\n",
    "                kernel_size=3,\n",
    "                stride=1,\n",
    "                padding=1,\n",
    "            ),\n",
    "            nn.ReLU(),\n",
    "            nn.MaxPool2d(kernel_size=2),\n",
    "        )\n",
    "        self.classifier = nn.Sequential(\n",
    "            nn.Flatten(), nn.Linear(in_features=hidden_units * 7 * 7, out_features=output_shape)\n",
    "        )\n",
    "\n",
    "    def forward(self, x):\n",
    "        x = self.conv_block_1(x)\n",
    "        # print(f\"Output shape of conv block 1: {x.shape}\")\n",
    "        x = self.conv_block_2(x)\n",
    "        # print(f\"Output shape of conv block 2: {x.shape}\")\n",
    "        x = self.classifier(x)\n",
    "        # print(f\"Output shape of classifier: {x.shape}\")\n",
    "        return x\n"
   ]
  },
  {
   "cell_type": "code",
   "execution_count": 16,
   "metadata": {},
   "outputs": [
    {
     "data": {
      "text/plain": [
       "'cuda'"
      ]
     },
     "execution_count": 16,
     "metadata": {},
     "output_type": "execute_result"
    }
   ],
   "source": [
    "device\n"
   ]
  },
  {
   "cell_type": "code",
   "execution_count": 17,
   "metadata": {},
   "outputs": [
    {
     "data": {
      "text/plain": [
       "MNIST_model(\n",
       "  (conv_block_1): Sequential(\n",
       "    (0): Conv2d(1, 10, kernel_size=(3, 3), stride=(1, 1), padding=(1, 1))\n",
       "    (1): ReLU()\n",
       "    (2): Conv2d(10, 10, kernel_size=(3, 3), stride=(1, 1), padding=(1, 1))\n",
       "    (3): ReLU()\n",
       "    (4): MaxPool2d(kernel_size=2, stride=2, padding=0, dilation=1, ceil_mode=False)\n",
       "  )\n",
       "  (conv_block_2): Sequential(\n",
       "    (0): Conv2d(10, 10, kernel_size=(3, 3), stride=(1, 1), padding=(1, 1))\n",
       "    (1): ReLU()\n",
       "    (2): Conv2d(10, 10, kernel_size=(3, 3), stride=(1, 1), padding=(1, 1))\n",
       "    (3): ReLU()\n",
       "    (4): MaxPool2d(kernel_size=2, stride=2, padding=0, dilation=1, ceil_mode=False)\n",
       "  )\n",
       "  (classifier): Sequential(\n",
       "    (0): Flatten(start_dim=1, end_dim=-1)\n",
       "    (1): Linear(in_features=490, out_features=10, bias=True)\n",
       "  )\n",
       ")"
      ]
     },
     "execution_count": 17,
     "metadata": {},
     "output_type": "execute_result"
    }
   ],
   "source": [
    "model = MNIST_model(input_shape=1, hidden_units=10, output_shape=10).to(device)\n",
    "model\n"
   ]
  },
  {
   "cell_type": "code",
   "execution_count": 18,
   "metadata": {},
   "outputs": [
    {
     "data": {
      "text/plain": [
       "OrderedDict([('conv_block_1.0.weight',\n",
       "              tensor([[[[-0.1512,  0.2207, -0.0537],\n",
       "                        [-0.2833,  0.1689, -0.3158],\n",
       "                        [-0.1388,  0.2014,  0.0750]]],\n",
       "              \n",
       "              \n",
       "                      [[[ 0.0666, -0.1891, -0.1612],\n",
       "                        [-0.1381,  0.2039, -0.0924],\n",
       "                        [-0.3235,  0.0765,  0.0081]]],\n",
       "              \n",
       "              \n",
       "                      [[[-0.1875,  0.1582,  0.0354],\n",
       "                        [ 0.1634, -0.1205, -0.0290],\n",
       "                        [ 0.0895, -0.1181, -0.0472]]],\n",
       "              \n",
       "              \n",
       "                      [[[-0.2137,  0.1737, -0.0888],\n",
       "                        [ 0.1132, -0.1759, -0.2563],\n",
       "                        [ 0.1333, -0.1923, -0.2607]]],\n",
       "              \n",
       "              \n",
       "                      [[[ 0.1055, -0.0491,  0.2068],\n",
       "                        [ 0.0184,  0.2199,  0.2753],\n",
       "                        [ 0.1866,  0.1120,  0.0697]]],\n",
       "              \n",
       "              \n",
       "                      [[[-0.0099,  0.3199,  0.0871],\n",
       "                        [-0.2948, -0.0780,  0.2902],\n",
       "                        [-0.1097, -0.1990, -0.1030]]],\n",
       "              \n",
       "              \n",
       "                      [[[ 0.1654, -0.1907, -0.1266],\n",
       "                        [ 0.1574, -0.0389, -0.1812],\n",
       "                        [-0.0741,  0.0566, -0.1848]]],\n",
       "              \n",
       "              \n",
       "                      [[[ 0.3172,  0.1797, -0.1062],\n",
       "                        [-0.0853,  0.2119, -0.2746],\n",
       "                        [ 0.0766,  0.0900,  0.0196]]],\n",
       "              \n",
       "              \n",
       "                      [[[-0.3024, -0.2250, -0.1465],\n",
       "                        [ 0.1094,  0.2889, -0.1132],\n",
       "                        [-0.2461,  0.1429, -0.1097]]],\n",
       "              \n",
       "              \n",
       "                      [[[-0.0365, -0.2875, -0.1920],\n",
       "                        [ 0.1874, -0.2102, -0.1998],\n",
       "                        [-0.1895,  0.0569, -0.0816]]]], device='cuda:0')),\n",
       "             ('conv_block_1.0.bias',\n",
       "              tensor([-0.0252,  0.0148,  0.2422, -0.1876, -0.2774, -0.3037,  0.0016, -0.2299,\n",
       "                      -0.2144,  0.2084], device='cuda:0')),\n",
       "             ('conv_block_1.2.weight',\n",
       "              tensor([[[[ 0.0996, -0.0589, -0.0279],\n",
       "                        [ 0.0022, -0.0733, -0.0541],\n",
       "                        [-0.0847,  0.0188, -0.0556]],\n",
       "              \n",
       "                       [[ 0.0476, -0.0427,  0.0391],\n",
       "                        [-0.0793,  0.0371, -0.0848],\n",
       "                        [ 0.0599,  0.0909,  0.0276]],\n",
       "              \n",
       "                       [[-0.0091,  0.0630, -0.0194],\n",
       "                        [-0.0959,  0.0229,  0.0278],\n",
       "                        [-0.0722, -0.1042, -0.0186]],\n",
       "              \n",
       "                       [[ 0.0770,  0.0482, -0.0188],\n",
       "                        [ 0.0949, -0.0355, -0.0039],\n",
       "                        [-0.0731, -0.1012,  0.0500]],\n",
       "              \n",
       "                       [[-0.0161,  0.0294, -0.0276],\n",
       "                        [-0.0412, -0.0926, -0.1022],\n",
       "                        [-0.0336,  0.0627,  0.1022]],\n",
       "              \n",
       "                       [[-0.0718,  0.0570,  0.0123],\n",
       "                        [-0.0703,  0.0165, -0.0311],\n",
       "                        [ 0.0479,  0.0602, -0.0269]],\n",
       "              \n",
       "                       [[ 0.0998,  0.0725, -0.0576],\n",
       "                        [-0.1051, -0.0729, -0.0934],\n",
       "                        [-0.0131,  0.0321,  0.0556]],\n",
       "              \n",
       "                       [[-0.0744,  0.0765, -0.0433],\n",
       "                        [-0.0953,  0.0462,  0.0450],\n",
       "                        [ 0.0788, -0.0536,  0.0268]],\n",
       "              \n",
       "                       [[-0.0072, -0.1026, -0.0579],\n",
       "                        [ 0.0572,  0.0478, -0.1051],\n",
       "                        [-0.0980,  0.0823,  0.0012]],\n",
       "              \n",
       "                       [[-0.0157,  0.0059, -0.0486],\n",
       "                        [ 0.0364, -0.1027, -0.0130],\n",
       "                        [-0.1052,  0.0579, -0.0268]]],\n",
       "              \n",
       "              \n",
       "                      [[[ 0.0841,  0.0782, -0.1039],\n",
       "                        [-0.0863,  0.0958, -0.0404],\n",
       "                        [ 0.0264, -0.0445,  0.0962]],\n",
       "              \n",
       "                       [[-0.0239, -0.0263,  0.0818],\n",
       "                        [ 0.0010, -0.0129,  0.0312],\n",
       "                        [-0.0403, -0.0270,  0.1029]],\n",
       "              \n",
       "                       [[-0.0897, -0.0820,  0.0840],\n",
       "                        [ 0.0299, -0.0569, -0.0538],\n",
       "                        [-0.0585, -0.0224, -0.1019]],\n",
       "              \n",
       "                       [[-0.0755, -0.0436, -0.0072],\n",
       "                        [ 0.0457, -0.0174,  0.0775],\n",
       "                        [ 0.0247,  0.0205,  0.1018]],\n",
       "              \n",
       "                       [[ 0.0370, -0.0744, -0.0881],\n",
       "                        [-0.0935, -0.0145, -0.0494],\n",
       "                        [ 0.0011, -0.0409,  0.0442]],\n",
       "              \n",
       "                       [[-0.0888, -0.0755,  0.0478],\n",
       "                        [-0.0722,  0.0031, -0.0998],\n",
       "                        [-0.0298, -0.0051,  0.0549]],\n",
       "              \n",
       "                       [[ 0.0115,  0.0617, -0.0734],\n",
       "                        [ 0.1047,  0.0855,  0.0203],\n",
       "                        [ 0.0453, -0.0694,  0.0291]],\n",
       "              \n",
       "                       [[-0.0661, -0.0355, -0.0174],\n",
       "                        [-0.0238, -0.0682,  0.0117],\n",
       "                        [-0.0208,  0.0646, -0.0366]],\n",
       "              \n",
       "                       [[-0.0847,  0.0771, -0.0372],\n",
       "                        [-0.0440, -0.0901,  0.0044],\n",
       "                        [-0.0326, -0.0884,  0.0934]],\n",
       "              \n",
       "                       [[ 0.0365,  0.0025,  0.0377],\n",
       "                        [-0.0902,  0.0698, -0.1047],\n",
       "                        [ 0.1049, -0.0005, -0.0196]]],\n",
       "              \n",
       "              \n",
       "                      [[[-0.0399, -0.0901, -0.0171],\n",
       "                        [ 0.0271,  0.0633,  0.1048],\n",
       "                        [-0.0457, -0.0873, -0.0614]],\n",
       "              \n",
       "                       [[ 0.1014, -0.0319,  0.0322],\n",
       "                        [ 0.0207,  0.0730, -0.0819],\n",
       "                        [ 0.0799,  0.0247, -0.0715]],\n",
       "              \n",
       "                       [[ 0.0946,  0.0349,  0.0642],\n",
       "                        [-0.0135,  0.0789,  0.0116],\n",
       "                        [-0.1006,  0.0597,  0.0497]],\n",
       "              \n",
       "                       [[-0.0532, -0.1037,  0.0578],\n",
       "                        [ 0.0908, -0.0105, -0.0413],\n",
       "                        [-0.0915, -0.0035, -0.0964]],\n",
       "              \n",
       "                       [[ 0.0917, -0.0534, -0.0677],\n",
       "                        [ 0.0935, -0.0257,  0.0361],\n",
       "                        [ 0.0205, -0.0605, -0.0881]],\n",
       "              \n",
       "                       [[ 0.0620, -0.0964,  0.0404],\n",
       "                        [ 0.0078, -0.0460, -0.0075],\n",
       "                        [ 0.0859, -0.0348,  0.0624]],\n",
       "              \n",
       "                       [[-0.0222,  0.0455, -0.0053],\n",
       "                        [-0.0203, -0.0585, -0.0105],\n",
       "                        [ 0.0070,  0.1014, -0.0667]],\n",
       "              \n",
       "                       [[-0.0674,  0.0396, -0.0206],\n",
       "                        [ 0.0370, -0.0148, -0.0781],\n",
       "                        [ 0.0406, -0.0331, -0.0678]],\n",
       "              \n",
       "                       [[-0.0256, -0.0748,  0.0423],\n",
       "                        [ 0.0091, -0.0791,  0.0094],\n",
       "                        [ 0.0009,  0.0695,  0.0535]],\n",
       "              \n",
       "                       [[ 0.0712, -0.0820, -0.0620],\n",
       "                        [-0.1037,  0.0565,  0.0338],\n",
       "                        [ 0.0424,  0.0884, -0.0415]]],\n",
       "              \n",
       "              \n",
       "                      [[[-0.0483,  0.0314,  0.0921],\n",
       "                        [-0.0335,  0.0735, -0.1004],\n",
       "                        [-0.0543,  0.0234, -0.0060]],\n",
       "              \n",
       "                       [[-0.1027,  0.0482, -0.0148],\n",
       "                        [-0.1029, -0.0429,  0.0044],\n",
       "                        [ 0.0769,  0.0667,  0.0887]],\n",
       "              \n",
       "                       [[-0.0126, -0.0019,  0.0484],\n",
       "                        [-0.0139,  0.0384, -0.0288],\n",
       "                        [ 0.0804,  0.0022, -0.0964]],\n",
       "              \n",
       "                       [[ 0.0031, -0.0107, -0.0229],\n",
       "                        [ 0.0939, -0.0744,  0.0151],\n",
       "                        [ 0.0750, -0.0033,  0.0710]],\n",
       "              \n",
       "                       [[-0.0234,  0.0473, -0.1031],\n",
       "                        [-0.0841, -0.0676, -0.0287],\n",
       "                        [-0.0455, -0.0777, -0.0434]],\n",
       "              \n",
       "                       [[ 0.0871, -0.0283,  0.0299],\n",
       "                        [ 0.0176, -0.0123,  0.0238],\n",
       "                        [-0.0069,  0.0417,  0.0397]],\n",
       "              \n",
       "                       [[ 0.0632,  0.0656, -0.0455],\n",
       "                        [ 0.0237, -0.0880,  0.0323],\n",
       "                        [ 0.0384,  0.0228, -0.0857]],\n",
       "              \n",
       "                       [[ 0.0812, -0.1034,  0.0731],\n",
       "                        [ 0.0796, -0.0660, -0.0049],\n",
       "                        [-0.0833, -0.0415, -0.0335]],\n",
       "              \n",
       "                       [[ 0.0684, -0.0408,  0.0684],\n",
       "                        [-0.0026,  0.0563, -0.0357],\n",
       "                        [-0.0955, -0.0568, -0.0775]],\n",
       "              \n",
       "                       [[ 0.0963,  0.0359,  0.0052],\n",
       "                        [-0.0336, -0.0866,  0.0065],\n",
       "                        [ 0.0522, -0.0082,  0.0349]]],\n",
       "              \n",
       "              \n",
       "                      [[[-0.0953, -0.0124,  0.0719],\n",
       "                        [ 0.0766, -0.0636, -0.0176],\n",
       "                        [-0.0058,  0.0846,  0.0244]],\n",
       "              \n",
       "                       [[-0.0571,  0.0365,  0.0872],\n",
       "                        [-0.0287,  0.0230, -0.0901],\n",
       "                        [-0.0458,  0.0456, -0.0852]],\n",
       "              \n",
       "                       [[-0.0507,  0.0751, -0.0917],\n",
       "                        [-0.0685,  0.0379,  0.0970],\n",
       "                        [ 0.0437, -0.0427, -0.1033]],\n",
       "              \n",
       "                       [[ 0.0795, -0.0517,  0.0260],\n",
       "                        [ 0.0975, -0.0141, -0.0722],\n",
       "                        [ 0.0721, -0.0096,  0.0385]],\n",
       "              \n",
       "                       [[ 0.0200,  0.0632,  0.0075],\n",
       "                        [-0.1023,  0.1053, -0.0186],\n",
       "                        [ 0.0026, -0.0770, -0.0175]],\n",
       "              \n",
       "                       [[-0.0927, -0.0033, -0.0587],\n",
       "                        [ 0.0019, -0.0464,  0.0557],\n",
       "                        [ 0.0387,  0.0220, -0.0803]],\n",
       "              \n",
       "                       [[ 0.1048,  0.0045,  0.0211],\n",
       "                        [ 0.0536,  0.0857, -0.0622],\n",
       "                        [ 0.0754, -0.0889,  0.0676]],\n",
       "              \n",
       "                       [[-0.0254,  0.0819, -0.1017],\n",
       "                        [-0.0576, -0.0642,  0.0935],\n",
       "                        [ 0.0437, -0.0256,  0.0312]],\n",
       "              \n",
       "                       [[ 0.0734, -0.0272, -0.0039],\n",
       "                        [ 0.0941, -0.0543,  0.0789],\n",
       "                        [ 0.0818,  0.1022, -0.0446]],\n",
       "              \n",
       "                       [[ 0.0340,  0.0493, -0.0712],\n",
       "                        [-0.0598, -0.0680,  0.0795],\n",
       "                        [ 0.0988, -0.0024,  0.0723]]],\n",
       "              \n",
       "              \n",
       "                      [[[ 0.0221,  0.0714,  0.0836],\n",
       "                        [ 0.0316, -0.0079, -0.0327],\n",
       "                        [ 0.0625, -0.0135,  0.0798]],\n",
       "              \n",
       "                       [[-0.1002,  0.0232, -0.0258],\n",
       "                        [ 0.0949, -0.0931,  0.0771],\n",
       "                        [-0.0519,  0.0987, -0.0580]],\n",
       "              \n",
       "                       [[-0.0396,  0.0047, -0.0979],\n",
       "                        [ 0.0580,  0.0286,  0.0713],\n",
       "                        [ 0.0450,  0.0883, -0.0275]],\n",
       "              \n",
       "                       [[ 0.0027, -0.0445, -0.0401],\n",
       "                        [-0.0102, -0.0425,  0.0857],\n",
       "                        [ 0.0618, -0.0057, -0.0218]],\n",
       "              \n",
       "                       [[ 0.0217,  0.0725, -0.0254],\n",
       "                        [-0.0086, -0.0020, -0.0920],\n",
       "                        [-0.0443,  0.0446,  0.0304]],\n",
       "              \n",
       "                       [[ 0.0974, -0.0005, -0.0687],\n",
       "                        [-0.0286,  0.0293,  0.0998],\n",
       "                        [-0.0177,  0.0775,  0.0011]],\n",
       "              \n",
       "                       [[-0.0833, -0.0664,  0.0791],\n",
       "                        [-0.0571,  0.0026,  0.0688],\n",
       "                        [ 0.0021,  0.0939,  0.0918]],\n",
       "              \n",
       "                       [[-0.0898, -0.0486,  0.0472],\n",
       "                        [ 0.0322, -0.0392,  0.0816],\n",
       "                        [-0.0005, -0.0324,  0.0389]],\n",
       "              \n",
       "                       [[-0.0378,  0.0981,  0.0140],\n",
       "                        [ 0.0744,  0.0473, -0.0288],\n",
       "                        [-0.0725,  0.0143, -0.0072]],\n",
       "              \n",
       "                       [[-0.0374, -0.0530, -0.0746],\n",
       "                        [-0.0073,  0.0294, -0.0813],\n",
       "                        [-0.0110,  0.0599,  0.0515]]],\n",
       "              \n",
       "              \n",
       "                      [[[-0.0028, -0.1026, -0.0836],\n",
       "                        [-0.1030,  0.0796,  0.0325],\n",
       "                        [-0.0941, -0.0532, -0.0588]],\n",
       "              \n",
       "                       [[-0.0964, -0.0180,  0.0246],\n",
       "                        [-0.0431, -0.0243,  0.0051],\n",
       "                        [ 0.0748, -0.0185,  0.0500]],\n",
       "              \n",
       "                       [[ 0.0809, -0.0336, -0.0382],\n",
       "                        [ 0.0607, -0.0153, -0.1054],\n",
       "                        [-0.0042, -0.0103,  0.0701]],\n",
       "              \n",
       "                       [[-0.0587,  0.0524, -0.0250],\n",
       "                        [-0.0787,  0.1047,  0.0813],\n",
       "                        [ 0.0565,  0.1001,  0.0273]],\n",
       "              \n",
       "                       [[-0.0525,  0.0635, -0.0130],\n",
       "                        [-0.0233,  0.0100,  0.0430],\n",
       "                        [-0.1008, -0.0512,  0.0523]],\n",
       "              \n",
       "                       [[-0.0492,  0.0851,  0.0781],\n",
       "                        [ 0.0611,  0.0112,  0.0879],\n",
       "                        [-0.0734, -0.0353, -0.0570]],\n",
       "              \n",
       "                       [[-0.0451,  0.0962,  0.0417],\n",
       "                        [-0.0870, -0.0724,  0.0727],\n",
       "                        [-0.0803, -0.0720, -0.0582]],\n",
       "              \n",
       "                       [[ 0.0939, -0.0419, -0.0289],\n",
       "                        [ 0.0727, -0.0498, -0.0595],\n",
       "                        [ 0.0707,  0.0156, -0.0048]],\n",
       "              \n",
       "                       [[-0.0311, -0.0690,  0.0909],\n",
       "                        [-0.0529, -0.0286, -0.0509],\n",
       "                        [ 0.0813, -0.0631, -0.0404]],\n",
       "              \n",
       "                       [[-0.0207, -0.0595, -0.0574],\n",
       "                        [ 0.0318, -0.0380,  0.0328],\n",
       "                        [ 0.0383,  0.0819,  0.0456]]],\n",
       "              \n",
       "              \n",
       "                      [[[ 0.0298,  0.0593,  0.0296],\n",
       "                        [-0.0354,  0.0447, -0.0101],\n",
       "                        [ 0.0073,  0.0004,  0.0371]],\n",
       "              \n",
       "                       [[ 0.0816,  0.0373, -0.0201],\n",
       "                        [ 0.0288,  0.0874,  0.0344],\n",
       "                        [ 0.0267, -0.0945,  0.0935]],\n",
       "              \n",
       "                       [[-0.0782,  0.0075, -0.0392],\n",
       "                        [-0.0217, -0.0978, -0.0095],\n",
       "                        [ 0.0573, -0.0347, -0.0505]],\n",
       "              \n",
       "                       [[ 0.0599,  0.0019,  0.1051],\n",
       "                        [-0.0621,  0.0524, -0.0268],\n",
       "                        [-0.0788,  0.0725,  0.0122]],\n",
       "              \n",
       "                       [[-0.0677,  0.0740,  0.0877],\n",
       "                        [ 0.1037, -0.0826, -0.0449],\n",
       "                        [-0.0928, -0.0703, -0.1044]],\n",
       "              \n",
       "                       [[-0.0706, -0.0630, -0.0864],\n",
       "                        [ 0.1038,  0.0551,  0.0214],\n",
       "                        [ 0.0822,  0.0306, -0.0575]],\n",
       "              \n",
       "                       [[ 0.0715, -0.0296,  0.1014],\n",
       "                        [ 0.0330, -0.0498,  0.0261],\n",
       "                        [-0.0179,  0.0513,  0.0692]],\n",
       "              \n",
       "                       [[-0.0601, -0.0264,  0.0552],\n",
       "                        [-0.0973, -0.0577, -0.0861],\n",
       "                        [-0.0148, -0.0112, -0.0072]],\n",
       "              \n",
       "                       [[-0.0739, -0.0857,  0.0382],\n",
       "                        [-0.0130,  0.0581, -0.0899],\n",
       "                        [ 0.0499,  0.0825, -0.0237]],\n",
       "              \n",
       "                       [[-0.0829,  0.0788,  0.0311],\n",
       "                        [ 0.0145, -0.0418, -0.0526],\n",
       "                        [-0.0464, -0.1043,  0.0109]]],\n",
       "              \n",
       "              \n",
       "                      [[[ 0.0187, -0.0593, -0.0088],\n",
       "                        [-0.0874,  0.0565,  0.0570],\n",
       "                        [ 0.0907,  0.0153,  0.0497]],\n",
       "              \n",
       "                       [[-0.0686,  0.0329, -0.0782],\n",
       "                        [ 0.0491, -0.0885, -0.0682],\n",
       "                        [ 0.0884,  0.0160,  0.0561]],\n",
       "              \n",
       "                       [[-0.0254, -0.0012,  0.0786],\n",
       "                        [-0.0319, -0.1053,  0.0633],\n",
       "                        [ 0.0099,  0.0301, -0.0097]],\n",
       "              \n",
       "                       [[ 0.0111, -0.0578,  0.0304],\n",
       "                        [-0.0402,  0.0651,  0.0309],\n",
       "                        [-0.0674,  0.0401,  0.0753]],\n",
       "              \n",
       "                       [[ 0.0244,  0.0323,  0.0256],\n",
       "                        [ 0.1027, -0.0245, -0.0533],\n",
       "                        [ 0.0343,  0.0746, -0.0457]],\n",
       "              \n",
       "                       [[-0.0629,  0.0694,  0.0080],\n",
       "                        [-0.0591, -0.0635,  0.0729],\n",
       "                        [-0.0816, -0.0528,  0.0921]],\n",
       "              \n",
       "                       [[-0.0436,  0.0903, -0.0283],\n",
       "                        [-0.0759,  0.0804,  0.0282],\n",
       "                        [ 0.0176,  0.0690, -0.0552]],\n",
       "              \n",
       "                       [[ 0.0602,  0.0844, -0.0426],\n",
       "                        [-0.0672,  0.0338,  0.0603],\n",
       "                        [-0.0838,  0.0377,  0.0498]],\n",
       "              \n",
       "                       [[ 0.0333, -0.0090,  0.0194],\n",
       "                        [ 0.0823,  0.0112,  0.0797],\n",
       "                        [-0.1031,  0.0005,  0.0791]],\n",
       "              \n",
       "                       [[-0.0942, -0.0196, -0.0893],\n",
       "                        [-0.0552, -0.0040,  0.0098],\n",
       "                        [-0.0152, -0.0244, -0.0964]]],\n",
       "              \n",
       "              \n",
       "                      [[[-0.0644, -0.0336, -0.0305],\n",
       "                        [-0.0445, -0.0670,  0.0123],\n",
       "                        [ 0.0792,  0.1020,  0.0083]],\n",
       "              \n",
       "                       [[ 0.0994, -0.0893, -0.0489],\n",
       "                        [ 0.0063,  0.0906, -0.1033],\n",
       "                        [-0.0810, -0.1043,  0.0509]],\n",
       "              \n",
       "                       [[-0.0737, -0.0601,  0.0730],\n",
       "                        [-0.0165, -0.0432,  0.0647],\n",
       "                        [ 0.0314, -0.0024,  0.0621]],\n",
       "              \n",
       "                       [[-0.0230,  0.0506, -0.0120],\n",
       "                        [-0.0893,  0.0316, -0.0837],\n",
       "                        [ 0.0865, -0.0797, -0.0360]],\n",
       "              \n",
       "                       [[-0.0138,  0.0811,  0.0968],\n",
       "                        [-0.0262,  0.0479,  0.0616],\n",
       "                        [ 0.0206,  0.0467, -0.0582]],\n",
       "              \n",
       "                       [[ 0.0127, -0.0066, -0.0881],\n",
       "                        [ 0.0228,  0.0756, -0.0653],\n",
       "                        [-0.0850,  0.0324,  0.0520]],\n",
       "              \n",
       "                       [[ 0.0623, -0.0131,  0.0869],\n",
       "                        [-0.0179, -0.0018, -0.0556],\n",
       "                        [-0.0093,  0.0639, -0.0771]],\n",
       "              \n",
       "                       [[ 0.0530,  0.1048, -0.0075],\n",
       "                        [-0.0684, -0.0957, -0.0967],\n",
       "                        [ 0.0134, -0.0244,  0.0762]],\n",
       "              \n",
       "                       [[-0.0960,  0.0856, -0.0997],\n",
       "                        [-0.0536, -0.0100, -0.0441],\n",
       "                        [ 0.0283, -0.0645, -0.0155]],\n",
       "              \n",
       "                       [[ 0.0526, -0.0394, -0.0900],\n",
       "                        [-0.0533,  0.0166, -0.1045],\n",
       "                        [-0.0872, -0.0377,  0.0533]]]], device='cuda:0')),\n",
       "             ('conv_block_1.2.bias',\n",
       "              tensor([ 0.0481, -0.0186,  0.0809, -0.0404,  0.0221, -0.0974,  0.0383, -0.0454,\n",
       "                       0.0531,  0.0519], device='cuda:0')),\n",
       "             ('conv_block_2.0.weight',\n",
       "              tensor([[[[-0.0528, -0.0732, -0.0708],\n",
       "                        [ 0.0836, -0.0176,  0.0030],\n",
       "                        [ 0.0326,  0.0157,  0.0996]],\n",
       "              \n",
       "                       [[ 0.0528, -0.0643,  0.0866],\n",
       "                        [ 0.0821, -0.0813,  0.0630],\n",
       "                        [-0.0474,  0.0053, -0.0630]],\n",
       "              \n",
       "                       [[-0.0746, -0.0817, -0.1012],\n",
       "                        [ 0.0217,  0.0379,  0.0630],\n",
       "                        [-0.0700, -0.0607,  0.0225]],\n",
       "              \n",
       "                       [[-0.0229,  0.0434,  0.0139],\n",
       "                        [-0.0713, -0.0320, -0.0487],\n",
       "                        [ 0.0374,  0.0294, -0.0217]],\n",
       "              \n",
       "                       [[ 0.0782,  0.0757, -0.0119],\n",
       "                        [-0.0910, -0.0767,  0.0396],\n",
       "                        [ 0.0636, -0.0330,  0.0181]],\n",
       "              \n",
       "                       [[ 0.0603,  0.0861,  0.0012],\n",
       "                        [-0.0115,  0.0114, -0.0969],\n",
       "                        [ 0.0183, -0.0796,  0.0252]],\n",
       "              \n",
       "                       [[-0.0058,  0.0500,  0.1041],\n",
       "                        [ 0.0500,  0.0396,  0.0516],\n",
       "                        [-0.0969, -0.0489,  0.0630]],\n",
       "              \n",
       "                       [[-0.0155, -0.0950,  0.0893],\n",
       "                        [-0.0435,  0.0685,  0.0633],\n",
       "                        [-0.0580,  0.0396,  0.0632]],\n",
       "              \n",
       "                       [[-0.0829,  0.0722,  0.0775],\n",
       "                        [-0.0639, -0.0453,  0.1044],\n",
       "                        [-0.0270,  0.0415, -0.0114]],\n",
       "              \n",
       "                       [[ 0.0601, -0.0119, -0.0463],\n",
       "                        [-0.0591, -0.0639, -0.0655],\n",
       "                        [ 0.0329,  0.0752,  0.0040]]],\n",
       "              \n",
       "              \n",
       "                      [[[ 0.0333,  0.0440, -0.0213],\n",
       "                        [ 0.0556, -0.0696, -0.0211],\n",
       "                        [ 0.0330,  0.0004, -0.0857]],\n",
       "              \n",
       "                       [[ 0.0571, -0.0166, -0.0876],\n",
       "                        [ 0.0529, -0.0996, -0.0839],\n",
       "                        [ 0.0294,  0.0985,  0.0112]],\n",
       "              \n",
       "                       [[-0.0661, -0.0128, -0.0557],\n",
       "                        [-0.0176, -0.0441,  0.0478],\n",
       "                        [-0.0847,  0.0161,  0.0676]],\n",
       "              \n",
       "                       [[ 0.0844,  0.0921,  0.0302],\n",
       "                        [ 0.0416,  0.0349, -0.0684],\n",
       "                        [-0.0600,  0.0595,  0.0569]],\n",
       "              \n",
       "                       [[-0.0378, -0.0220, -0.0212],\n",
       "                        [-0.0966, -0.0996,  0.0160],\n",
       "                        [ 0.0378, -0.0803, -0.0197]],\n",
       "              \n",
       "                       [[ 0.0605,  0.0061, -0.0918],\n",
       "                        [ 0.0812,  0.0958, -0.0166],\n",
       "                        [ 0.0483, -0.0245,  0.0230]],\n",
       "              \n",
       "                       [[ 0.0973, -0.0974, -0.0738],\n",
       "                        [ 0.0012,  0.0661,  0.0308],\n",
       "                        [ 0.0360,  0.0803, -0.1021]],\n",
       "              \n",
       "                       [[-0.0903,  0.0458,  0.0919],\n",
       "                        [-0.0413, -0.0330, -0.0706],\n",
       "                        [ 0.0743, -0.0297, -0.0027]],\n",
       "              \n",
       "                       [[-0.0595,  0.0900,  0.0812],\n",
       "                        [ 0.0574,  0.0460, -0.0957],\n",
       "                        [ 0.0257,  0.0740,  0.0711]],\n",
       "              \n",
       "                       [[ 0.0672,  0.0914,  0.0571],\n",
       "                        [-0.0830, -0.0715,  0.0778],\n",
       "                        [ 0.0908,  0.0960,  0.0557]]],\n",
       "              \n",
       "              \n",
       "                      [[[ 0.0285,  0.0771,  0.0808],\n",
       "                        [ 0.0150,  0.0833, -0.0729],\n",
       "                        [ 0.0270, -0.0932, -0.0461]],\n",
       "              \n",
       "                       [[-0.0911, -0.0817, -0.0961],\n",
       "                        [ 0.0818,  0.0185, -0.0744],\n",
       "                        [-0.0051, -0.0658, -0.0908]],\n",
       "              \n",
       "                       [[ 0.0557,  0.0774,  0.0270],\n",
       "                        [ 0.0166, -0.0833,  0.0579],\n",
       "                        [ 0.0066, -0.0669,  0.0854]],\n",
       "              \n",
       "                       [[ 0.0432,  0.0952,  0.0976],\n",
       "                        [-0.0512,  0.1046, -0.1035],\n",
       "                        [ 0.0074, -0.0670, -0.0231]],\n",
       "              \n",
       "                       [[ 0.0747, -0.0434, -0.0598],\n",
       "                        [ 0.0644,  0.0135,  0.0010],\n",
       "                        [ 0.0403, -0.0055, -0.0847]],\n",
       "              \n",
       "                       [[ 0.0110,  0.0269,  0.0743],\n",
       "                        [-0.0871, -0.0958, -0.0189],\n",
       "                        [-0.1048,  0.0058,  0.0703]],\n",
       "              \n",
       "                       [[ 0.0355,  0.0232,  0.0832],\n",
       "                        [ 0.0547, -0.0325, -0.0457],\n",
       "                        [ 0.0317,  0.0933, -0.0777]],\n",
       "              \n",
       "                       [[-0.0396, -0.0962, -0.0510],\n",
       "                        [ 0.0867, -0.0754, -0.0016],\n",
       "                        [ 0.0589,  0.0090, -0.0221]],\n",
       "              \n",
       "                       [[-0.0063,  0.0407,  0.0981],\n",
       "                        [-0.0436, -0.0371, -0.1017],\n",
       "                        [ 0.0745,  0.0382, -0.0116]],\n",
       "              \n",
       "                       [[ 0.0897, -0.0545,  0.0233],\n",
       "                        [ 0.0373,  0.0294,  0.0554],\n",
       "                        [ 0.0842, -0.0182,  0.0915]]],\n",
       "              \n",
       "              \n",
       "                      [[[ 0.0322, -0.0750,  0.0577],\n",
       "                        [ 0.0597,  0.0901, -0.0103],\n",
       "                        [ 0.0239, -0.0726, -0.0856]],\n",
       "              \n",
       "                       [[-0.0332, -0.0977,  0.0906],\n",
       "                        [ 0.0450,  0.0362,  0.0422],\n",
       "                        [-0.0379,  0.0877, -0.0944]],\n",
       "              \n",
       "                       [[ 0.0104, -0.0168, -0.0029],\n",
       "                        [-0.0467,  0.0546,  0.0414],\n",
       "                        [ 0.0272,  0.0894,  0.0885]],\n",
       "              \n",
       "                       [[-0.0386, -0.0522,  0.0872],\n",
       "                        [ 0.0420, -0.0583,  0.0752],\n",
       "                        [-0.0536, -0.0872, -0.0032]],\n",
       "              \n",
       "                       [[-0.0261, -0.0694,  0.0359],\n",
       "                        [ 0.0302,  0.0226, -0.0932],\n",
       "                        [ 0.0584,  0.0408, -0.0865]],\n",
       "              \n",
       "                       [[ 0.0207,  0.0253, -0.0687],\n",
       "                        [-0.0407,  0.0577, -0.0586],\n",
       "                        [ 0.0960, -0.0333,  0.0553]],\n",
       "              \n",
       "                       [[-0.0007,  0.0573,  0.0295],\n",
       "                        [-0.0367,  0.0945,  0.0812],\n",
       "                        [ 0.0353, -0.0500,  0.0195]],\n",
       "              \n",
       "                       [[-0.0641, -0.0572, -0.0563],\n",
       "                        [-0.0099, -0.0456,  0.0810],\n",
       "                        [ 0.0598,  0.0159,  0.0998]],\n",
       "              \n",
       "                       [[-0.0499,  0.0635,  0.0937],\n",
       "                        [-0.0183,  0.0477, -0.0675],\n",
       "                        [-0.0277,  0.0033,  0.0305]],\n",
       "              \n",
       "                       [[-0.0478,  0.0427,  0.1001],\n",
       "                        [ 0.0030, -0.0411, -0.0290],\n",
       "                        [-0.1013,  0.0469,  0.0222]]],\n",
       "              \n",
       "              \n",
       "                      [[[ 0.0057, -0.0080,  0.0496],\n",
       "                        [ 0.0932, -0.0872, -0.0818],\n",
       "                        [-0.0558, -0.0890, -0.0467]],\n",
       "              \n",
       "                       [[-0.0195, -0.0751, -0.0592],\n",
       "                        [-0.0225,  0.0060, -0.0569],\n",
       "                        [ 0.0301, -0.0164,  0.0803]],\n",
       "              \n",
       "                       [[-0.1034,  0.0339, -0.0569],\n",
       "                        [ 0.1021,  0.0805, -0.0950],\n",
       "                        [ 0.0085,  0.0088, -0.0813]],\n",
       "              \n",
       "                       [[-0.0912, -0.0898, -0.0963],\n",
       "                        [ 0.0777,  0.0052,  0.0566],\n",
       "                        [ 0.0850, -0.0416, -0.0793]],\n",
       "              \n",
       "                       [[ 0.0956, -0.0453, -0.0567],\n",
       "                        [-0.0208, -0.0177,  0.0793],\n",
       "                        [-0.0378,  0.0082,  0.0687]],\n",
       "              \n",
       "                       [[-0.0754,  0.0803, -0.0958],\n",
       "                        [ 0.0557, -0.0625,  0.0759],\n",
       "                        [ 0.0229, -0.0946, -0.0877]],\n",
       "              \n",
       "                       [[-0.0843, -0.0286, -0.0925],\n",
       "                        [-0.0778,  0.1008,  0.0323],\n",
       "                        [ 0.0902,  0.0092,  0.0167]],\n",
       "              \n",
       "                       [[-0.0109,  0.0288,  0.0496],\n",
       "                        [-0.0050,  0.0384,  0.1031],\n",
       "                        [-0.1053,  0.0657, -0.0438]],\n",
       "              \n",
       "                       [[ 0.0122,  0.0270, -0.0173],\n",
       "                        [ 0.0665,  0.0222, -0.0360],\n",
       "                        [-0.0879, -0.1051, -0.0123]],\n",
       "              \n",
       "                       [[-0.0887, -0.0222, -0.0984],\n",
       "                        [ 0.0310,  0.0763, -0.0123],\n",
       "                        [-0.0083,  0.0602,  0.0968]]],\n",
       "              \n",
       "              \n",
       "                      [[[-0.0392,  0.0910,  0.0694],\n",
       "                        [-0.0077, -0.1014,  0.0508],\n",
       "                        [ 0.0262, -0.0157,  0.0085]],\n",
       "              \n",
       "                       [[-0.0828, -0.0582,  0.0246],\n",
       "                        [ 0.0528, -0.0474,  0.0251],\n",
       "                        [-0.0709, -0.0866, -0.0009]],\n",
       "              \n",
       "                       [[-0.0985, -0.0239,  0.0144],\n",
       "                        [-0.0137, -0.0760,  0.0192],\n",
       "                        [ 0.0467,  0.0333, -0.0624]],\n",
       "              \n",
       "                       [[-0.0787, -0.0383, -0.0144],\n",
       "                        [ 0.0869, -0.0329,  0.0262],\n",
       "                        [ 0.0971, -0.0027, -0.0372]],\n",
       "              \n",
       "                       [[-0.0621,  0.0238,  0.0283],\n",
       "                        [ 0.0176,  0.0696, -0.0791],\n",
       "                        [-0.0928, -0.0967, -0.0086]],\n",
       "              \n",
       "                       [[ 0.0158,  0.0334,  0.0752],\n",
       "                        [ 0.0354,  0.0581,  0.0014],\n",
       "                        [-0.0810,  0.0740,  0.0375]],\n",
       "              \n",
       "                       [[ 0.0125, -0.0414, -0.0935],\n",
       "                        [-0.0723, -0.0820, -0.0993],\n",
       "                        [ 0.0398, -0.0384,  0.0512]],\n",
       "              \n",
       "                       [[-0.0131,  0.0949,  0.0715],\n",
       "                        [ 0.0769,  0.1013, -0.0027],\n",
       "                        [-0.0972,  0.0248, -0.0657]],\n",
       "              \n",
       "                       [[-0.0862,  0.1036, -0.0646],\n",
       "                        [-0.0711,  0.0893, -0.0542],\n",
       "                        [ 0.0967,  0.0309, -0.1006]],\n",
       "              \n",
       "                       [[-0.1025, -0.0063,  0.0280],\n",
       "                        [-0.0736, -0.0426, -0.0259],\n",
       "                        [-0.0611, -0.0978, -0.0380]]],\n",
       "              \n",
       "              \n",
       "                      [[[ 0.0663, -0.0136, -0.0312],\n",
       "                        [ 0.1037,  0.0233,  0.0364],\n",
       "                        [-0.0181, -0.0759,  0.0394]],\n",
       "              \n",
       "                       [[ 0.0022, -0.0807,  0.0673],\n",
       "                        [ 0.0747, -0.0211,  0.0428],\n",
       "                        [-0.0369, -0.0962,  0.0757]],\n",
       "              \n",
       "                       [[ 0.0023,  0.0543, -0.0755],\n",
       "                        [ 0.0637,  0.0642, -0.0375],\n",
       "                        [ 0.0970, -0.0345,  0.0629]],\n",
       "              \n",
       "                       [[-0.0212,  0.0677,  0.0359],\n",
       "                        [ 0.0213, -0.0183, -0.0639],\n",
       "                        [-0.1014,  0.0249, -0.0579]],\n",
       "              \n",
       "                       [[-0.0719,  0.0802,  0.0483],\n",
       "                        [ 0.0762,  0.0539, -0.0004],\n",
       "                        [-0.0199,  0.0788, -0.0047]],\n",
       "              \n",
       "                       [[-0.0862, -0.1049, -0.0274],\n",
       "                        [-0.0154, -0.0322, -0.0983],\n",
       "                        [-0.0518,  0.0906, -0.0045]],\n",
       "              \n",
       "                       [[ 0.0815, -0.0341, -0.0453],\n",
       "                        [-0.0664,  0.0961,  0.0653],\n",
       "                        [-0.0105,  0.0322,  0.0953]],\n",
       "              \n",
       "                       [[ 0.1027,  0.0114, -0.1011],\n",
       "                        [-0.1019, -0.0203, -0.0356],\n",
       "                        [-0.0188, -0.0587, -0.0997]],\n",
       "              \n",
       "                       [[-0.0567, -0.0489,  0.1019],\n",
       "                        [-0.0721, -0.0896, -0.0395],\n",
       "                        [ 0.0377, -0.1032, -0.0089]],\n",
       "              \n",
       "                       [[ 0.0560,  0.0778,  0.0780],\n",
       "                        [-0.0852, -0.0892, -0.0941],\n",
       "                        [ 0.1018,  0.0058,  0.0767]]],\n",
       "              \n",
       "              \n",
       "                      [[[-0.0531, -0.0250, -0.0974],\n",
       "                        [ 0.0171,  0.0492,  0.0133],\n",
       "                        [-0.0523, -0.0245,  0.0622]],\n",
       "              \n",
       "                       [[ 0.0584, -0.0247, -0.0378],\n",
       "                        [-0.0620, -0.0701, -0.0153],\n",
       "                        [-0.0986,  0.0616, -0.0069]],\n",
       "              \n",
       "                       [[-0.0579, -0.0296,  0.0869],\n",
       "                        [-0.0897,  0.0823,  0.1051],\n",
       "                        [-0.0135, -0.0027,  0.0385]],\n",
       "              \n",
       "                       [[ 0.0237,  0.0415,  0.0492],\n",
       "                        [ 0.0218, -0.0612,  0.0732],\n",
       "                        [-0.0634,  0.0791,  0.0975]],\n",
       "              \n",
       "                       [[-0.0599, -0.0369, -0.0127],\n",
       "                        [ 0.0848, -0.0700,  0.0220],\n",
       "                        [-0.0848, -0.0473,  0.0811]],\n",
       "              \n",
       "                       [[ 0.0323, -0.0339, -0.0061],\n",
       "                        [ 0.0762, -0.0002,  0.0235],\n",
       "                        [ 0.0706, -0.0611,  0.0266]],\n",
       "              \n",
       "                       [[-0.0066,  0.0324,  0.0036],\n",
       "                        [ 0.0591,  0.0672, -0.0933],\n",
       "                        [-0.0824,  0.0127,  0.0406]],\n",
       "              \n",
       "                       [[-0.0932,  0.0700, -0.0302],\n",
       "                        [ 0.0293,  0.0428,  0.0355],\n",
       "                        [-0.0169,  0.0072, -0.0107]],\n",
       "              \n",
       "                       [[-0.0081, -0.0888, -0.0376],\n",
       "                        [ 0.0135, -0.1020,  0.0165],\n",
       "                        [ 0.0269,  0.0309, -0.0337]],\n",
       "              \n",
       "                       [[ 0.0662,  0.0754, -0.1045],\n",
       "                        [ 0.0753,  0.0476, -0.0448],\n",
       "                        [-0.0246,  0.0527,  0.0594]]],\n",
       "              \n",
       "              \n",
       "                      [[[ 0.0540, -0.0538,  0.0762],\n",
       "                        [ 0.0754, -0.0325, -0.0042],\n",
       "                        [ 0.0696,  0.0315, -0.0600]],\n",
       "              \n",
       "                       [[-0.0534,  0.0289, -0.0966],\n",
       "                        [-0.0025, -0.0610, -0.0289],\n",
       "                        [ 0.0325, -0.0837, -0.0768]],\n",
       "              \n",
       "                       [[ 0.0010, -0.0239, -0.0592],\n",
       "                        [ 0.0630,  0.0115, -0.0706],\n",
       "                        [-0.0873, -0.0139,  0.0569]],\n",
       "              \n",
       "                       [[-0.0955,  0.0744, -0.0287],\n",
       "                        [-0.0560, -0.0478, -0.0930],\n",
       "                        [ 0.0552,  0.1007, -0.0064]],\n",
       "              \n",
       "                       [[-0.0923, -0.0480, -0.0929],\n",
       "                        [-0.0733, -0.0834,  0.0677],\n",
       "                        [ 0.0678, -0.0761,  0.0279]],\n",
       "              \n",
       "                       [[ 0.0997, -0.0155, -0.0068],\n",
       "                        [ 0.0986, -0.0274,  0.0255],\n",
       "                        [-0.1008, -0.0690, -0.0591]],\n",
       "              \n",
       "                       [[ 0.0344, -0.0935, -0.1036],\n",
       "                        [ 0.0668,  0.0436,  0.0639],\n",
       "                        [ 0.0377,  0.0932, -0.0911]],\n",
       "              \n",
       "                       [[-0.0166, -0.0080, -0.0386],\n",
       "                        [ 0.0168, -0.0117,  0.0317],\n",
       "                        [-0.0786, -0.0525, -0.0388]],\n",
       "              \n",
       "                       [[ 0.0376, -0.0750,  0.0337],\n",
       "                        [ 0.0179, -0.0080,  0.0789],\n",
       "                        [ 0.0933, -0.0047, -0.0397]],\n",
       "              \n",
       "                       [[ 0.0471, -0.0804,  0.0764],\n",
       "                        [ 0.0431,  0.0918,  0.0740],\n",
       "                        [ 0.0131, -0.0826, -0.1022]]],\n",
       "              \n",
       "              \n",
       "                      [[[-0.0707,  0.0613, -0.0956],\n",
       "                        [-0.0825, -0.0886,  0.0238],\n",
       "                        [-0.0639,  0.0529,  0.0626]],\n",
       "              \n",
       "                       [[-0.0039,  0.0871,  0.0117],\n",
       "                        [ 0.0348,  0.0013,  0.0911],\n",
       "                        [ 0.0964, -0.0083,  0.0310]],\n",
       "              \n",
       "                       [[-0.0155, -0.0888, -0.0366],\n",
       "                        [ 0.0362,  0.0614, -0.0178],\n",
       "                        [ 0.0516, -0.0718,  0.0716]],\n",
       "              \n",
       "                       [[-0.0759, -0.0097,  0.0650],\n",
       "                        [-0.0117,  0.0344, -0.0902],\n",
       "                        [-0.0256,  0.0834, -0.1005]],\n",
       "              \n",
       "                       [[ 0.0098,  0.0520,  0.0494],\n",
       "                        [-0.0067, -0.0713, -0.0327],\n",
       "                        [-0.0575, -0.0864, -0.0378]],\n",
       "              \n",
       "                       [[-0.0898,  0.0134,  0.0246],\n",
       "                        [-0.0027, -0.0205,  0.1006],\n",
       "                        [-0.0542,  0.0023,  0.0995]],\n",
       "              \n",
       "                       [[-0.0002,  0.0866, -0.0111],\n",
       "                        [ 0.0536, -0.0223, -0.0058],\n",
       "                        [ 0.0567,  0.0829,  0.0451]],\n",
       "              \n",
       "                       [[-0.1013,  0.0568, -0.0009],\n",
       "                        [ 0.0392, -0.0462, -0.0533],\n",
       "                        [ 0.0171,  0.0271, -0.0067]],\n",
       "              \n",
       "                       [[ 0.0334,  0.0371, -0.0988],\n",
       "                        [ 0.0214, -0.0921,  0.0225],\n",
       "                        [-0.0811, -0.0095, -0.0416]],\n",
       "              \n",
       "                       [[-0.0141, -0.0464, -0.0738],\n",
       "                        [ 0.0174, -0.0492,  0.0355],\n",
       "                        [ 0.0173,  0.0595,  0.0490]]]], device='cuda:0')),\n",
       "             ('conv_block_2.0.bias',\n",
       "              tensor([ 0.0035,  0.0428, -0.0060, -0.0539, -0.0129, -0.0546,  0.0699,  0.0709,\n",
       "                       0.0198, -0.0294], device='cuda:0')),\n",
       "             ('conv_block_2.2.weight',\n",
       "              tensor([[[[-6.7208e-02,  9.1117e-02,  1.3634e-02],\n",
       "                        [ 4.7592e-02,  1.0159e-02,  2.1089e-02],\n",
       "                        [-3.2174e-02, -3.2373e-03, -1.5275e-03]],\n",
       "              \n",
       "                       [[-4.7463e-02,  7.4281e-03,  1.6120e-02],\n",
       "                        [ 1.8983e-02, -2.6134e-02,  9.0219e-02],\n",
       "                        [ 2.1547e-02, -1.2913e-02, -1.3482e-02]],\n",
       "              \n",
       "                       [[-8.7384e-02,  2.3894e-02, -3.3132e-02],\n",
       "                        [-1.6390e-02,  1.9951e-03, -5.6478e-02],\n",
       "                        [ 7.0982e-03, -2.5294e-02, -1.0022e-01]],\n",
       "              \n",
       "                       [[-4.7332e-02,  4.1164e-02,  3.5567e-03],\n",
       "                        [ 9.6345e-02,  7.4152e-02,  6.4929e-02],\n",
       "                        [-7.7329e-02, -6.1013e-02, -3.0964e-02]],\n",
       "              \n",
       "                       [[-9.6687e-02,  8.3954e-02,  5.6835e-02],\n",
       "                        [ 7.4582e-02, -8.4073e-02, -1.0985e-03],\n",
       "                        [-1.0018e-01,  8.4610e-02,  1.3235e-02]],\n",
       "              \n",
       "                       [[ 4.2244e-02,  9.4473e-02,  6.0136e-02],\n",
       "                        [ 1.5152e-02,  2.1070e-02,  5.2521e-02],\n",
       "                        [-3.5862e-02,  4.0524e-05,  3.5234e-02]],\n",
       "              \n",
       "                       [[ 1.0447e-01,  9.5773e-02,  6.9655e-02],\n",
       "                        [ 7.9063e-02, -8.6796e-02,  7.4428e-02],\n",
       "                        [-4.1319e-02, -6.4657e-02, -5.1654e-02]],\n",
       "              \n",
       "                       [[-4.8931e-02, -9.1771e-02,  6.1813e-02],\n",
       "                        [-9.6447e-02,  6.7283e-02, -1.4559e-02],\n",
       "                        [-8.1602e-03,  4.0025e-02,  2.1037e-03]],\n",
       "              \n",
       "                       [[ 6.5881e-02,  9.6844e-02,  7.6826e-02],\n",
       "                        [-6.8437e-02,  7.1392e-02, -6.8804e-02],\n",
       "                        [ 2.5239e-03, -9.6195e-02,  4.2378e-03]],\n",
       "              \n",
       "                       [[-6.9444e-02, -6.2815e-04, -5.2199e-02],\n",
       "                        [ 8.2417e-02,  1.7926e-02, -2.0543e-03],\n",
       "                        [-8.6147e-02,  7.8009e-02,  4.0266e-03]]],\n",
       "              \n",
       "              \n",
       "                      [[[ 7.6534e-02, -1.0520e-01, -1.7773e-02],\n",
       "                        [-5.8172e-02, -2.2593e-02, -5.5158e-02],\n",
       "                        [ 4.0160e-02, -1.8914e-02,  4.3058e-02]],\n",
       "              \n",
       "                       [[-8.0390e-02,  2.6015e-02,  4.2879e-02],\n",
       "                        [ 6.1465e-02,  1.6035e-02,  4.5559e-02],\n",
       "                        [ 6.8209e-02,  6.4295e-02,  3.3881e-02]],\n",
       "              \n",
       "                       [[-5.5380e-02,  3.8357e-02, -1.0415e-01],\n",
       "                        [-6.3136e-03,  6.0123e-03,  1.6730e-02],\n",
       "                        [-5.7569e-02, -8.7630e-02, -8.8355e-02]],\n",
       "              \n",
       "                       [[ 7.3605e-03, -7.9672e-02, -9.4194e-02],\n",
       "                        [-7.3204e-02,  1.0429e-01,  2.6872e-02],\n",
       "                        [-8.2783e-02, -9.5749e-02,  4.7373e-03]],\n",
       "              \n",
       "                       [[ 2.5054e-02, -1.0333e-01,  7.5400e-02],\n",
       "                        [ 9.2761e-02, -9.8108e-02,  6.6556e-02],\n",
       "                        [-9.8245e-02,  2.5787e-02, -9.4049e-02]],\n",
       "              \n",
       "                       [[-6.1777e-02,  3.6703e-02, -3.1486e-03],\n",
       "                        [ 1.0408e-01,  9.0702e-02,  1.8632e-02],\n",
       "                        [-6.2603e-02,  2.2771e-02, -3.4769e-02]],\n",
       "              \n",
       "                       [[-1.0258e-01, -5.7337e-02,  7.4604e-02],\n",
       "                        [ 7.0778e-02, -8.0597e-02, -8.0164e-02],\n",
       "                        [ 1.4691e-02,  6.2466e-02, -7.4548e-02]],\n",
       "              \n",
       "                       [[-3.1228e-02,  1.0464e-01, -2.4771e-02],\n",
       "                        [-2.5345e-02,  4.9943e-03,  3.1008e-02],\n",
       "                        [ 5.2491e-02, -6.6175e-02,  6.5841e-02]],\n",
       "              \n",
       "                       [[ 5.8786e-02,  9.1051e-02,  6.3845e-02],\n",
       "                        [ 1.0162e-01,  2.1816e-02,  1.4037e-05],\n",
       "                        [-2.9086e-02,  9.8894e-02, -9.7774e-02]],\n",
       "              \n",
       "                       [[ 8.7054e-02,  8.4876e-02,  1.0399e-01],\n",
       "                        [ 2.0161e-02, -1.4720e-02,  2.5007e-02],\n",
       "                        [ 6.7525e-03, -5.5879e-02,  9.4118e-02]]],\n",
       "              \n",
       "              \n",
       "                      [[[-6.6204e-02,  8.3403e-02, -2.1347e-02],\n",
       "                        [ 7.7757e-02, -5.1032e-02, -1.1924e-02],\n",
       "                        [ 7.1916e-02,  4.4495e-02,  9.6574e-02]],\n",
       "              \n",
       "                       [[ 1.7677e-02, -4.7593e-02, -7.4087e-02],\n",
       "                        [-1.9434e-02, -7.7825e-02, -4.4506e-03],\n",
       "                        [-4.3414e-02,  1.0101e-01,  3.7306e-02]],\n",
       "              \n",
       "                       [[-9.6866e-02,  9.9945e-02, -7.9517e-02],\n",
       "                        [-7.0030e-02, -8.6604e-03,  6.9404e-02],\n",
       "                        [ 9.5725e-02, -4.3989e-02,  8.3835e-02]],\n",
       "              \n",
       "                       [[ 5.3829e-02, -1.4803e-02,  4.8197e-02],\n",
       "                        [ 7.8430e-02,  1.7652e-02,  1.0046e-01],\n",
       "                        [-2.2954e-02,  6.8877e-02, -7.1229e-02]],\n",
       "              \n",
       "                       [[-6.3111e-02,  6.0421e-02,  8.4420e-02],\n",
       "                        [ 1.0066e-01, -1.0316e-01, -9.7538e-02],\n",
       "                        [ 7.6032e-02, -2.6107e-02, -6.1586e-02]],\n",
       "              \n",
       "                       [[ 5.3509e-03,  8.8509e-02, -1.0429e-01],\n",
       "                        [-3.3276e-02,  3.5785e-05, -8.2509e-02],\n",
       "                        [ 6.0889e-02,  5.7203e-03, -3.0069e-03]],\n",
       "              \n",
       "                       [[-3.0908e-02,  2.4181e-02, -6.1968e-02],\n",
       "                        [-1.6355e-02, -2.2574e-02, -8.3881e-02],\n",
       "                        [ 7.7565e-02, -8.6168e-02,  1.8460e-02]],\n",
       "              \n",
       "                       [[ 1.4814e-02,  8.4098e-02, -3.6088e-02],\n",
       "                        [ 4.1478e-02, -2.5633e-02,  1.9535e-02],\n",
       "                        [ 7.6423e-02, -4.9969e-02,  9.9312e-02]],\n",
       "              \n",
       "                       [[-4.6660e-02, -8.7545e-02, -1.1125e-02],\n",
       "                        [-1.4467e-02, -7.5142e-02, -7.2064e-02],\n",
       "                        [ 7.7623e-02,  4.6544e-02,  7.9210e-02]],\n",
       "              \n",
       "                       [[-1.5148e-03,  3.1777e-02,  1.0121e-01],\n",
       "                        [ 1.9163e-03,  1.3541e-02,  2.5707e-03],\n",
       "                        [-7.4416e-02, -1.0868e-02, -1.8636e-02]]],\n",
       "              \n",
       "              \n",
       "                      [[[ 3.2476e-02,  6.5471e-02, -7.7742e-02],\n",
       "                        [ 7.3083e-02, -9.4324e-02,  8.0181e-02],\n",
       "                        [ 1.8634e-04, -4.0599e-02, -1.4832e-02]],\n",
       "              \n",
       "                       [[-4.8905e-02,  6.4094e-02, -4.5297e-02],\n",
       "                        [ 4.5212e-02,  4.4712e-02,  9.6851e-02],\n",
       "                        [ 7.9739e-02, -7.8728e-02,  6.0126e-02]],\n",
       "              \n",
       "                       [[ 4.7153e-02, -1.2109e-02, -3.9263e-02],\n",
       "                        [ 4.9143e-02,  6.8000e-02, -1.8059e-02],\n",
       "                        [ 3.7178e-02,  9.4816e-02,  2.2914e-02]],\n",
       "              \n",
       "                       [[-9.5078e-03, -8.9958e-03,  3.2071e-02],\n",
       "                        [ 9.4953e-02, -3.8627e-02,  5.2139e-03],\n",
       "                        [ 1.0174e-01,  4.7537e-02,  5.5088e-02]],\n",
       "              \n",
       "                       [[-8.0311e-02,  1.4201e-02,  2.3548e-02],\n",
       "                        [-1.0308e-01, -9.2925e-02, -1.0389e-01],\n",
       "                        [-1.0215e-01,  7.7955e-02,  1.9446e-02]],\n",
       "              \n",
       "                       [[ 1.5663e-02, -1.3595e-02, -6.2288e-02],\n",
       "                        [-6.8976e-03, -2.8498e-02,  5.1116e-02],\n",
       "                        [-2.3213e-02,  5.6213e-02, -7.1477e-02]],\n",
       "              \n",
       "                       [[ 9.2034e-02,  5.2584e-02, -3.8229e-02],\n",
       "                        [-9.5391e-02,  6.1205e-02,  3.8865e-02],\n",
       "                        [-7.3854e-02,  4.1514e-02, -9.3874e-02]],\n",
       "              \n",
       "                       [[-4.7738e-02, -6.6352e-03, -6.4805e-02],\n",
       "                        [-2.0652e-02, -7.1130e-02, -5.4371e-02],\n",
       "                        [-6.1158e-02, -8.1257e-03,  1.5926e-02]],\n",
       "              \n",
       "                       [[-3.9228e-02, -2.6263e-02,  9.4748e-02],\n",
       "                        [ 2.7022e-02,  2.0259e-02,  7.6746e-02],\n",
       "                        [ 3.8713e-03, -7.1765e-02, -1.0432e-01]],\n",
       "              \n",
       "                       [[-1.2451e-03,  9.8206e-03,  3.2526e-04],\n",
       "                        [-4.5357e-02, -4.1448e-02,  5.6710e-03],\n",
       "                        [ 1.4769e-02, -7.7498e-02, -8.6686e-02]]],\n",
       "              \n",
       "              \n",
       "                      [[[-1.0504e-01,  2.0085e-02,  2.9559e-02],\n",
       "                        [ 4.8326e-02,  2.3652e-02, -1.0109e-01],\n",
       "                        [ 3.8865e-02, -1.4676e-02,  4.4669e-02]],\n",
       "              \n",
       "                       [[-5.9466e-02, -8.1799e-02, -9.5646e-03],\n",
       "                        [-4.0451e-02,  8.5307e-02,  6.3935e-02],\n",
       "                        [ 7.7602e-02, -5.3538e-03,  3.2856e-02]],\n",
       "              \n",
       "                       [[-5.8132e-03, -3.3860e-02,  3.3194e-02],\n",
       "                        [ 6.7387e-03, -9.8256e-02,  6.4927e-03],\n",
       "                        [ 9.4684e-02, -9.2468e-02,  5.4240e-02]],\n",
       "              \n",
       "                       [[ 4.7715e-02,  9.4083e-02, -1.3239e-02],\n",
       "                        [ 7.1227e-02,  4.6251e-02, -6.1784e-02],\n",
       "                        [ 7.0620e-02, -6.8414e-02, -4.9862e-02]],\n",
       "              \n",
       "                       [[ 8.9591e-02,  9.8828e-02, -8.6599e-02],\n",
       "                        [-1.5748e-02, -6.6229e-02, -8.2602e-02],\n",
       "                        [-3.2378e-02, -1.0308e-02, -7.0990e-02]],\n",
       "              \n",
       "                       [[-2.2771e-02, -6.9408e-02, -5.3883e-02],\n",
       "                        [ 1.0453e-02, -3.8379e-02, -3.7357e-02],\n",
       "                        [-6.9956e-03, -9.9414e-03, -6.5017e-02]],\n",
       "              \n",
       "                       [[-8.5305e-02,  8.5617e-02, -1.3688e-03],\n",
       "                        [ 5.5213e-02, -1.0667e-02,  3.4885e-02],\n",
       "                        [ 7.9947e-02, -1.0128e-01, -8.1595e-02]],\n",
       "              \n",
       "                       [[ 6.7470e-03, -1.0507e-01,  7.1329e-02],\n",
       "                        [ 5.4385e-03, -1.9125e-02, -4.4096e-02],\n",
       "                        [-1.0407e-01, -5.6214e-02,  5.0322e-03]],\n",
       "              \n",
       "                       [[-1.0014e-01, -4.6767e-02,  2.0188e-02],\n",
       "                        [-7.3712e-02,  1.2647e-02,  1.1648e-02],\n",
       "                        [ 8.5637e-02,  9.3581e-02, -5.1014e-02]],\n",
       "              \n",
       "                       [[ 8.5396e-02, -3.4788e-02,  2.5842e-02],\n",
       "                        [ 5.9336e-02, -4.1966e-02,  7.9401e-02],\n",
       "                        [-7.0670e-02, -6.7784e-02,  1.9238e-02]]],\n",
       "              \n",
       "              \n",
       "                      [[[-9.9237e-02, -7.7097e-02,  8.0189e-02],\n",
       "                        [-7.2523e-02, -8.9409e-02,  4.1253e-02],\n",
       "                        [ 7.8656e-02, -3.8183e-02,  4.1729e-02]],\n",
       "              \n",
       "                       [[-7.1228e-02, -7.7917e-02, -4.2788e-02],\n",
       "                        [ 3.0876e-03, -1.8020e-02,  1.0406e-01],\n",
       "                        [-7.6359e-02,  1.0263e-01, -8.6521e-02]],\n",
       "              \n",
       "                       [[-6.6176e-02,  6.8235e-02,  8.1958e-02],\n",
       "                        [-1.8248e-02,  5.3597e-02, -5.6040e-02],\n",
       "                        [ 2.0339e-02,  1.1803e-02,  3.6363e-02]],\n",
       "              \n",
       "                       [[-9.1779e-02,  2.6197e-03,  3.2179e-02],\n",
       "                        [-2.7388e-02, -3.5752e-02,  1.6910e-02],\n",
       "                        [-7.1655e-02,  4.2035e-02,  6.2334e-02]],\n",
       "              \n",
       "                       [[-4.2247e-03, -9.2153e-02, -5.2853e-03],\n",
       "                        [-9.9852e-02, -7.9445e-02, -6.8259e-02],\n",
       "                        [-4.2781e-02, -7.4785e-02,  4.0276e-02]],\n",
       "              \n",
       "                       [[-6.0230e-02, -2.1875e-02, -9.3810e-02],\n",
       "                        [-2.0611e-02, -1.7200e-02, -6.7986e-02],\n",
       "                        [-1.2048e-02, -9.9429e-02,  2.6914e-02]],\n",
       "              \n",
       "                       [[-7.7854e-02,  8.9184e-02, -2.3425e-02],\n",
       "                        [ 8.4993e-02,  5.6551e-02,  6.8875e-02],\n",
       "                        [-2.6042e-02, -1.0192e-01, -5.0553e-02]],\n",
       "              \n",
       "                       [[ 7.9943e-02, -1.0198e-01,  2.8950e-02],\n",
       "                        [-4.0335e-02, -7.2442e-03, -3.4185e-02],\n",
       "                        [-3.4263e-02,  1.4828e-02,  1.0320e-01]],\n",
       "              \n",
       "                       [[ 1.0269e-01,  5.3020e-02, -5.7284e-03],\n",
       "                        [-7.5044e-02, -9.6500e-02,  2.9971e-02],\n",
       "                        [ 4.0479e-02,  2.5364e-02,  3.0193e-02]],\n",
       "              \n",
       "                       [[-4.8746e-02, -6.6560e-02, -1.0101e-01],\n",
       "                        [-1.1404e-02,  8.1967e-02,  6.9579e-02],\n",
       "                        [ 1.7992e-02, -9.3809e-02, -2.1054e-03]]],\n",
       "              \n",
       "              \n",
       "                      [[[ 5.5701e-02,  3.8293e-02,  3.0299e-02],\n",
       "                        [-9.4037e-02,  9.5999e-02,  6.1772e-03],\n",
       "                        [ 4.4253e-02,  7.4107e-02, -6.5260e-02]],\n",
       "              \n",
       "                       [[ 7.7987e-02,  2.6108e-03,  3.2902e-02],\n",
       "                        [-9.4681e-02, -3.7557e-02, -9.6950e-02],\n",
       "                        [-2.9105e-02,  6.4716e-02,  8.7707e-02]],\n",
       "              \n",
       "                       [[-3.3773e-02,  1.6865e-02, -2.2176e-02],\n",
       "                        [ 9.7435e-02,  9.2227e-02,  4.3036e-02],\n",
       "                        [-7.1111e-02, -2.4304e-02, -9.7888e-02]],\n",
       "              \n",
       "                       [[ 9.5464e-02, -4.7352e-02, -1.0168e-01],\n",
       "                        [ 4.5573e-03,  1.0092e-01,  1.9580e-02],\n",
       "                        [ 3.4068e-02, -4.3406e-02,  4.6692e-03]],\n",
       "              \n",
       "                       [[-2.3227e-02, -1.3878e-02, -1.0391e-01],\n",
       "                        [ 4.7928e-03, -8.0969e-02, -6.3628e-02],\n",
       "                        [ 8.9784e-03,  4.9791e-02,  2.9109e-02]],\n",
       "              \n",
       "                       [[-3.0046e-02,  2.2966e-02, -3.9135e-02],\n",
       "                        [ 1.0125e-01,  5.2564e-02,  4.2783e-02],\n",
       "                        [-5.2750e-03,  5.3602e-02, -8.4497e-02]],\n",
       "              \n",
       "                       [[-1.9974e-02,  2.5154e-02, -5.2476e-02],\n",
       "                        [-3.0758e-02, -2.9507e-02,  7.4466e-02],\n",
       "                        [-4.0484e-02,  2.6245e-04, -8.0945e-02]],\n",
       "              \n",
       "                       [[-2.1305e-02, -2.3296e-02,  3.1019e-02],\n",
       "                        [-4.3763e-02, -7.1251e-02, -4.2616e-02],\n",
       "                        [ 6.0705e-02,  6.6438e-02,  8.9750e-02]],\n",
       "              \n",
       "                       [[ 9.6972e-02, -6.3364e-02, -3.2550e-02],\n",
       "                        [-7.5995e-02, -8.9453e-02, -4.3524e-03],\n",
       "                        [ 2.9214e-02, -1.0923e-02,  3.6037e-02]],\n",
       "              \n",
       "                       [[-4.4587e-02, -9.5476e-02,  7.0963e-02],\n",
       "                        [-7.8016e-02,  6.8156e-02,  9.9444e-02],\n",
       "                        [ 6.9756e-02, -1.7483e-02, -6.2109e-02]]],\n",
       "              \n",
       "              \n",
       "                      [[[ 8.2885e-02, -6.0787e-02, -6.5498e-02],\n",
       "                        [ 1.0531e-01, -4.8319e-03,  8.7087e-02],\n",
       "                        [ 6.2377e-03,  7.8142e-04,  2.1849e-02]],\n",
       "              \n",
       "                       [[ 4.0051e-02,  3.3446e-02,  1.0386e-01],\n",
       "                        [ 9.2049e-02, -5.6699e-02,  5.9396e-02],\n",
       "                        [ 2.6946e-02, -9.4637e-02, -5.5372e-02]],\n",
       "              \n",
       "                       [[ 6.3544e-02,  6.1374e-02, -9.4626e-02],\n",
       "                        [ 8.4107e-02, -2.3367e-04,  3.7410e-02],\n",
       "                        [ 1.6051e-02,  2.1426e-02, -3.2197e-02]],\n",
       "              \n",
       "                       [[ 9.2323e-02, -5.3047e-02, -4.2326e-02],\n",
       "                        [ 1.0289e-01,  9.9232e-02, -3.4584e-02],\n",
       "                        [ 8.0803e-02, -9.5567e-02, -8.3016e-02]],\n",
       "              \n",
       "                       [[-5.7074e-02, -2.4714e-02, -8.4603e-02],\n",
       "                        [-7.2378e-02,  5.4897e-02,  7.9862e-02],\n",
       "                        [ 7.4808e-02, -1.0115e-01, -6.9308e-02]],\n",
       "              \n",
       "                       [[ 9.5436e-02, -4.5083e-02,  7.4706e-02],\n",
       "                        [-4.4487e-02, -9.4610e-02, -5.0633e-02],\n",
       "                        [ 1.3499e-02,  2.6687e-02, -2.9447e-04]],\n",
       "              \n",
       "                       [[ 2.8196e-02, -2.9171e-02, -9.3842e-02],\n",
       "                        [-1.5396e-02, -8.9424e-02, -3.1950e-02],\n",
       "                        [-6.8036e-03,  4.3401e-02,  2.1245e-02]],\n",
       "              \n",
       "                       [[ 7.0968e-03, -7.8442e-02,  5.1040e-02],\n",
       "                        [ 3.6973e-02, -3.2159e-02, -2.6327e-02],\n",
       "                        [-9.3179e-03, -5.8798e-02, -9.8000e-02]],\n",
       "              \n",
       "                       [[ 4.7959e-02, -2.8125e-02, -1.0125e-01],\n",
       "                        [ 3.4787e-02, -4.8951e-03, -7.9896e-03],\n",
       "                        [ 7.9682e-02, -9.4616e-02, -7.8946e-02]],\n",
       "              \n",
       "                       [[-7.7910e-02, -2.6085e-02, -1.5453e-02],\n",
       "                        [ 8.3241e-02,  4.8183e-02,  4.1836e-02],\n",
       "                        [-8.9659e-02,  9.3033e-03, -5.1742e-02]]],\n",
       "              \n",
       "              \n",
       "                      [[[ 9.4478e-02, -9.4082e-02, -3.9268e-02],\n",
       "                        [ 9.7432e-02, -5.9073e-02,  4.9295e-02],\n",
       "                        [-8.9780e-02,  4.6587e-02,  5.5469e-02]],\n",
       "              \n",
       "                       [[-2.2395e-02, -6.7838e-03, -3.8430e-02],\n",
       "                        [-8.4322e-02, -9.9373e-02, -1.9815e-02],\n",
       "                        [-4.8242e-02,  4.3989e-02,  8.9444e-02]],\n",
       "              \n",
       "                       [[-7.9494e-02, -1.5079e-02, -7.5070e-02],\n",
       "                        [ 4.9412e-02,  7.9858e-02,  4.1129e-02],\n",
       "                        [ 1.8628e-02, -1.0084e-01, -1.9466e-02]],\n",
       "              \n",
       "                       [[-7.8640e-02,  4.4058e-02, -1.6571e-02],\n",
       "                        [-9.8410e-02, -6.2589e-02, -4.7503e-02],\n",
       "                        [ 3.9848e-02, -9.0388e-02,  4.3806e-02]],\n",
       "              \n",
       "                       [[ 8.5360e-02,  4.2047e-02,  1.0909e-02],\n",
       "                        [-1.4945e-02, -6.7637e-02, -9.1523e-02],\n",
       "                        [ 9.2388e-02,  6.4682e-03,  8.3062e-02]],\n",
       "              \n",
       "                       [[ 7.3758e-02, -7.0987e-02,  3.7056e-04],\n",
       "                        [-5.7226e-02,  2.3694e-02, -5.2843e-02],\n",
       "                        [ 6.1309e-02, -1.9298e-02,  2.5684e-02]],\n",
       "              \n",
       "                       [[-7.5166e-02, -1.9456e-03,  1.6789e-04],\n",
       "                        [-7.9287e-02, -8.4283e-02,  8.7065e-02],\n",
       "                        [-3.9146e-02, -6.9464e-02,  5.4379e-02]],\n",
       "              \n",
       "                       [[ 1.8667e-02, -5.3425e-02,  1.0234e-01],\n",
       "                        [ 7.9964e-02, -2.6596e-02, -8.1101e-02],\n",
       "                        [ 1.9451e-02, -1.0624e-03,  3.1423e-02]],\n",
       "              \n",
       "                       [[ 7.2776e-02,  3.2695e-02,  5.8343e-02],\n",
       "                        [ 6.0643e-02, -8.3179e-02, -8.5100e-02],\n",
       "                        [-1.0245e-01, -3.2107e-02,  1.0081e-01]],\n",
       "              \n",
       "                       [[-9.9563e-02,  8.7675e-03, -1.4908e-02],\n",
       "                        [ 3.4568e-03,  7.4050e-02, -8.8324e-02],\n",
       "                        [ 3.9869e-02, -5.4337e-02, -7.8959e-02]]],\n",
       "              \n",
       "              \n",
       "                      [[[ 9.2269e-02, -8.7074e-02, -1.0296e-01],\n",
       "                        [ 9.7906e-02,  8.8219e-02, -7.8034e-02],\n",
       "                        [ 5.5079e-02,  7.8712e-02, -7.0642e-02]],\n",
       "              \n",
       "                       [[-3.5814e-02, -8.2657e-02, -1.0487e-01],\n",
       "                        [ 4.3753e-02, -4.0228e-02,  2.8824e-02],\n",
       "                        [-6.4358e-02,  3.8912e-02, -9.0129e-02]],\n",
       "              \n",
       "                       [[-3.3779e-02,  8.6437e-02, -1.6370e-02],\n",
       "                        [-4.4500e-02,  9.4736e-02, -2.1221e-02],\n",
       "                        [-4.1478e-02,  4.8613e-02,  9.5103e-02]],\n",
       "              \n",
       "                       [[-9.8460e-02, -2.5536e-02, -3.3087e-02],\n",
       "                        [-5.9424e-02,  1.7132e-02,  4.8801e-02],\n",
       "                        [ 8.9332e-02, -1.0469e-02, -3.7814e-02]],\n",
       "              \n",
       "                       [[ 2.2441e-02,  3.8857e-02,  1.0239e-01],\n",
       "                        [ 6.0355e-02,  2.9373e-02,  2.9009e-02],\n",
       "                        [ 1.5564e-02,  4.3493e-02,  2.4126e-02]],\n",
       "              \n",
       "                       [[-6.0530e-02,  1.0137e-01,  5.8692e-02],\n",
       "                        [-6.7549e-02, -3.4632e-02, -1.2606e-02],\n",
       "                        [-1.8520e-02, -6.6658e-02, -5.2286e-03]],\n",
       "              \n",
       "                       [[-5.4186e-02,  2.2032e-02, -1.7539e-02],\n",
       "                        [ 8.2102e-02, -7.8167e-02, -2.5357e-02],\n",
       "                        [ 7.4695e-02,  1.3677e-02,  4.1450e-02]],\n",
       "              \n",
       "                       [[-3.4384e-04, -9.6665e-02,  5.9365e-02],\n",
       "                        [ 4.4227e-02, -1.3881e-02,  4.8616e-03],\n",
       "                        [-7.8963e-02, -5.9933e-02, -1.8946e-02]],\n",
       "              \n",
       "                       [[ 3.1169e-02,  6.3539e-02, -5.8842e-02],\n",
       "                        [-2.0230e-02,  5.0912e-02, -7.1181e-02],\n",
       "                        [-7.2202e-02,  9.9958e-02,  7.5526e-03]],\n",
       "              \n",
       "                       [[-8.6564e-02, -9.3228e-02,  1.0201e-01],\n",
       "                        [ 4.3182e-03,  4.9173e-02,  7.3598e-02],\n",
       "                        [-6.8435e-02,  9.6479e-02,  1.6812e-02]]]], device='cuda:0')),\n",
       "             ('conv_block_2.2.bias',\n",
       "              tensor([ 0.0456, -0.0069,  0.0016,  0.0150,  0.0276,  0.0750,  0.0811,  0.0887,\n",
       "                      -0.0682, -0.0343], device='cuda:0')),\n",
       "             ('classifier.1.weight',\n",
       "              tensor([[ 1.0931e-02,  2.3562e-02,  4.3909e-04,  ...,  4.2165e-03,\n",
       "                        2.5058e-02, -2.2584e-03],\n",
       "                      [-3.5739e-02, -1.5442e-02, -1.0915e-02,  ..., -1.9782e-02,\n",
       "                        8.6521e-03,  8.1233e-03],\n",
       "                      [-1.6041e-02,  3.8915e-02,  2.1877e-02,  ...,  3.4147e-02,\n",
       "                        2.1162e-03, -1.4332e-02],\n",
       "                      ...,\n",
       "                      [ 1.6773e-02, -1.9831e-02,  6.7623e-03,  ..., -3.3110e-05,\n",
       "                       -2.5535e-02,  2.6096e-02],\n",
       "                      [ 9.4528e-04,  2.3829e-02, -3.1323e-02,  ...,  1.3190e-02,\n",
       "                       -4.3425e-02,  3.4360e-02],\n",
       "                      [-2.7224e-02, -1.5337e-02,  2.1150e-03,  ...,  2.1948e-03,\n",
       "                        2.1922e-03,  1.5621e-02]], device='cuda:0')),\n",
       "             ('classifier.1.bias',\n",
       "              tensor([-0.0365,  0.0331, -0.0063, -0.0105, -0.0247,  0.0175, -0.0392, -0.0287,\n",
       "                       0.0446,  0.0018], device='cuda:0'))])"
      ]
     },
     "execution_count": 18,
     "metadata": {},
     "output_type": "execute_result"
    }
   ],
   "source": [
    "# Check out the model state dict to find out what patterns our model wants to learn\n",
    "model.state_dict()\n"
   ]
  },
  {
   "cell_type": "code",
   "execution_count": 19,
   "metadata": {},
   "outputs": [
    {
     "data": {
      "text/plain": [
       "tensor([[-0.0725,  0.0350,  0.0241, -0.0111, -0.0222,  0.0545, -0.0538, -0.0344,\n",
       "          0.0299,  0.0129]], device='cuda:0', grad_fn=<AddmmBackward0>)"
      ]
     },
     "execution_count": 19,
     "metadata": {},
     "output_type": "execute_result"
    }
   ],
   "source": [
    "# Try a dummy forward pass to see what shapes our data is\n",
    "dummy_x = torch.rand(size=(1, 28, 28)).unsqueeze(dim=0).to(device)\n",
    "# dummy_x.shape\n",
    "model(dummy_x)\n"
   ]
  },
  {
   "cell_type": "code",
   "execution_count": 20,
   "metadata": {},
   "outputs": [
    {
     "data": {
      "text/plain": [
       "torch.Size([1, 10, 7, 7])"
      ]
     },
     "execution_count": 20,
     "metadata": {},
     "output_type": "execute_result"
    }
   ],
   "source": [
    "dummy_x_2 = torch.rand(size=([1, 10, 7, 7]))\n",
    "dummy_x_2.shape\n"
   ]
  },
  {
   "cell_type": "code",
   "execution_count": 21,
   "metadata": {},
   "outputs": [
    {
     "data": {
      "text/plain": [
       "torch.Size([1, 490])"
      ]
     },
     "execution_count": 21,
     "metadata": {},
     "output_type": "execute_result"
    }
   ],
   "source": [
    "flatten_layer = nn.Flatten()\n",
    "flatten_layer(dummy_x_2).shape\n"
   ]
  },
  {
   "cell_type": "markdown",
   "metadata": {
    "id": "sf_3zUr7xlhy"
   },
   "source": [
    "## 9. Train the model you built in exercise 8. for 5 epochs on CPU and GPU and see how long it takes on each."
   ]
  },
  {
   "cell_type": "code",
   "execution_count": 22,
   "metadata": {
    "id": "jSo6vVWFbNLD"
   },
   "outputs": [
    {
     "data": {
      "application/vnd.jupyter.widget-view+json": {
       "model_id": "00481a13530d4bc78f9c6342b448f5cd",
       "version_major": 2,
       "version_minor": 0
      },
      "text/plain": [
       "  0%|          | 0/5 [00:00<?, ?it/s]"
      ]
     },
     "metadata": {},
     "output_type": "display_data"
    },
    {
     "name": "stdout",
     "output_type": "stream",
     "text": [
      "Epoch: 0 | Loss: 0.306 | Test loss: 0.061\n",
      "Epoch: 1 | Loss: 0.075 | Test loss: 0.052\n",
      "Epoch: 2 | Loss: 0.057 | Test loss: 0.044\n",
      "Epoch: 3 | Loss: 0.047 | Test loss: 0.034\n",
      "Epoch: 4 | Loss: 0.042 | Test loss: 0.042\n",
      "CPU times: total: 21min 29s\n",
      "Wall time: 6min 39s\n"
     ]
    }
   ],
   "source": [
    "%%time\n",
    "from tqdm.auto import tqdm\n",
    "\n",
    "# Train on CPU\n",
    "model_cpu = MNIST_model(input_shape=1, hidden_units=10, output_shape=10).to(\"cpu\")\n",
    "\n",
    "# Create a loss function and optimizer\n",
    "loss_fn = nn.CrossEntropyLoss()\n",
    "optimizer = torch.optim.SGD(model_cpu.parameters(), lr=0.1)\n",
    "\n",
    "### Training loop\n",
    "epochs = 5\n",
    "for epoch in tqdm(range(epochs)):\n",
    "    train_loss = 0\n",
    "    for batch, (X, y) in enumerate(train_dataloader):\n",
    "        model_cpu.train()\n",
    "\n",
    "        # Put data on CPU\n",
    "        X, y = X.to(\"cpu\"), y.to(\"cpu\")\n",
    "\n",
    "        # Forward pass\n",
    "        y_pred = model_cpu(X)\n",
    "\n",
    "        # Loss calculation\n",
    "        loss = loss_fn(y_pred, y)\n",
    "        train_loss += loss\n",
    "\n",
    "        # Optimizer zero grad\n",
    "        optimizer.zero_grad()\n",
    "\n",
    "        # Loss backward\n",
    "        loss.backward()\n",
    "\n",
    "        # Step the optimizer\n",
    "        optimizer.step()\n",
    "\n",
    "    # Adjust train loss for number of batches\n",
    "    train_loss /= len(train_dataloader)\n",
    "\n",
    "    ### Testing loop\n",
    "    test_loss_total = 0\n",
    "\n",
    "    # Put model in eval mode\n",
    "    model_cpu.eval()\n",
    "\n",
    "    # Turn on inference mode\n",
    "    with torch.inference_mode():\n",
    "        for batch, (X_test, y_test) in enumerate(test_dataloader):\n",
    "            # Make sure test data on CPU\n",
    "            X_test, y_test = X_test.to(\"cpu\"), y_test.to(\"cpu\")\n",
    "            test_pred = model_cpu(X_test)\n",
    "            test_loss = loss_fn(test_pred, y_test)\n",
    "\n",
    "            test_loss_total += test_loss\n",
    "\n",
    "        test_loss_total /= len(test_dataloader)\n",
    "\n",
    "    # Print out what's happening\n",
    "    print(f\"Epoch: {epoch} | Loss: {train_loss:.3f} | Test loss: {test_loss_total:.3f}\")\n"
   ]
  },
  {
   "cell_type": "code",
   "execution_count": 23,
   "metadata": {},
   "outputs": [
    {
     "data": {
      "application/vnd.jupyter.widget-view+json": {
       "model_id": "2cac68c227da4fbd9dba743b40e99e2c",
       "version_major": 2,
       "version_minor": 0
      },
      "text/plain": [
       "  0%|          | 0/5 [00:00<?, ?it/s]"
      ]
     },
     "metadata": {},
     "output_type": "display_data"
    },
    {
     "name": "stdout",
     "output_type": "stream",
     "text": [
      "Epoch: 0 | Loss: 1.344 | Test loss: 0.122\n",
      "Epoch: 1 | Loss: 0.092 | Test loss: 0.063\n",
      "Epoch: 2 | Loss: 0.068 | Test loss: 0.062\n",
      "Epoch: 3 | Loss: 0.058 | Test loss: 0.055\n",
      "Epoch: 4 | Loss: 0.052 | Test loss: 0.064\n",
      "CPU times: total: 2min 17s\n",
      "Wall time: 2min 20s\n"
     ]
    }
   ],
   "source": [
    "%%time\n",
    "from tqdm.auto import tqdm\n",
    "\n",
    "device = \"cuda\" if torch.cuda.is_available() else \"cpu\"\n",
    "\n",
    "# Train on GPU\n",
    "model_gpu = MNIST_model(input_shape=1, hidden_units=10, output_shape=10).to(device)\n",
    "\n",
    "# Create a loss function and optimizer\n",
    "loss_fn = nn.CrossEntropyLoss()\n",
    "optimizer = torch.optim.SGD(model_gpu.parameters(), lr=0.1)\n",
    "\n",
    "# Training loop\n",
    "epochs = 5\n",
    "for epoch in tqdm(range(epochs)):\n",
    "    train_loss = 0\n",
    "    model_gpu.train()\n",
    "    for batch, (X, y) in enumerate(train_dataloader):\n",
    "        # Put data on target device\n",
    "        X, y = X.to(device), y.to(device)\n",
    "\n",
    "        # Forward pass\n",
    "        y_pred = model_gpu(X)\n",
    "\n",
    "        # Loss calculation\n",
    "        loss = loss_fn(y_pred, y)\n",
    "        train_loss += loss\n",
    "\n",
    "        # Optimizer zero grad\n",
    "        optimizer.zero_grad()\n",
    "\n",
    "        # Loss backward\n",
    "        loss.backward()\n",
    "\n",
    "        # Step the optimizer\n",
    "        optimizer.step()\n",
    "\n",
    "    # Adjust train loss to number of batches\n",
    "    train_loss /= len(train_dataloader)\n",
    "\n",
    "    ### Testing loop\n",
    "    test_loss_total = 0\n",
    "    # Put model in eval mode and turn on inference mode\n",
    "    model_gpu.eval()\n",
    "    with torch.inference_mode():\n",
    "        for batch, (X_test, y_test) in enumerate(test_dataloader):\n",
    "            # Make sure test data on target device\n",
    "            X_test, y_test = X_test.to(device), y_test.to(device)\n",
    "\n",
    "            test_pred = model_gpu(X_test)\n",
    "            test_loss = loss_fn(test_pred, y_test)\n",
    "\n",
    "            test_loss_total += test_loss\n",
    "\n",
    "        # Adjust test loss total for number of batches\n",
    "        test_loss_total /= len(test_dataloader)\n",
    "\n",
    "    # Print out what's happening\n",
    "    print(f\"Epoch: {epoch} | Loss: {train_loss:.3f} | Test loss: {test_loss_total:.3f}\")\n"
   ]
  },
  {
   "cell_type": "markdown",
   "metadata": {
    "id": "w1CsHhPpxp1w"
   },
   "source": [
    "## 10. Make predictions using your trained model and visualize at least 5 of them comparing the prediciton to the target label."
   ]
  },
  {
   "cell_type": "code",
   "execution_count": 24,
   "metadata": {
    "id": "_YGgZvSobNxu"
   },
   "outputs": [
    {
     "data": {
      "text/plain": [
       "<matplotlib.image.AxesImage at 0x20adf433760>"
      ]
     },
     "execution_count": 24,
     "metadata": {},
     "output_type": "execute_result"
    },
    {
     "data": {
      "image/png": "[encoded data removed]",
      "text/plain": [
       "<Figure size 640x480 with 1 Axes>"
      ]
     },
     "metadata": {},
     "output_type": "display_data"
    }
   ],
   "source": [
    "# Make predictions with the trained model\n",
    "plt.imshow(test_data[0][0].squeeze(), cmap=\"gray\")\n"
   ]
  },
  {
   "cell_type": "code",
   "execution_count": 25,
   "metadata": {},
   "outputs": [
    {
     "data": {
      "text/plain": [
       "tensor([7], device='cuda:0')"
      ]
     },
     "execution_count": 25,
     "metadata": {},
     "output_type": "execute_result"
    }
   ],
   "source": [
    "# Logits -> Prediction probabilities -> Prediction labels\n",
    "model_pred_logits = model_gpu(\n",
    "    test_data[0][0].unsqueeze(dim=0).to(device)\n",
    ")  # make sure image is right shape + on right device\n",
    "model_pred_probs = torch.softmax(model_pred_logits, dim=1)\n",
    "model_pred_label = torch.argmax(model_pred_probs, dim=1)\n",
    "model_pred_label\n"
   ]
  },
  {
   "cell_type": "code",
   "execution_count": 26,
   "metadata": {},
   "outputs": [
    {
     "data": {
      "image/png": "[encoded data removed]",
      "text/plain": [
       "<Figure size 640x480 with 1 Axes>"
      ]
     },
     "metadata": {},
     "output_type": "display_data"
    },
    {
     "data": {
      "image/png": "[encoded data removed]",
      "text/plain": [
       "<Figure size 640x480 with 1 Axes>"
      ]
     },
     "metadata": {},
     "output_type": "display_data"
    },
    {
     "data": {
      "image/png": "[encoded data removed]",
      "text/plain": [
       "<Figure size 640x480 with 1 Axes>"
      ]
     },
     "metadata": {},
     "output_type": "display_data"
    },
    {
     "data": {
      "image/png": "[encoded data removed]",
      "text/plain": [
       "<Figure size 640x480 with 1 Axes>"
      ]
     },
     "metadata": {},
     "output_type": "display_data"
    },
    {
     "data": {
      "image/png": "[encoded data removed]",
      "text/plain": [
       "<Figure size 640x480 with 1 Axes>"
      ]
     },
     "metadata": {},
     "output_type": "display_data"
    }
   ],
   "source": [
    "num_to_plot = 5\n",
    "for i in range(num_to_plot):\n",
    "    # Get image and labels from the test data\n",
    "    img = test_data[i][0]\n",
    "    label = test_data[i][1]\n",
    "\n",
    "    # Make prediction on image\n",
    "    model_pred_logits = model_gpu(img.unsqueeze(dim=0).to(device))\n",
    "    model_pred_probs = torch.softmax(model_pred_logits, dim=1)\n",
    "    model_pred_label = torch.argmax(model_pred_probs, dim=1)\n",
    "\n",
    "    # Plot the image and prediction\n",
    "    plt.figure()\n",
    "    plt.imshow(img.squeeze(), cmap=\"gray\")\n",
    "    plt.title(f\"Truth: {label} | Pred: {model_pred_label.cpu().item()}\")\n",
    "    plt.axis(False)\n"
   ]
  },
  {
   "cell_type": "markdown",
   "metadata": {
    "id": "qQwzqlBWxrpG"
   },
   "source": [
    "## 11. Plot a confusion matrix comparing your model's predictions to the truth labels."
   ]
  },
  {
   "cell_type": "code",
   "execution_count": 27,
   "metadata": {
    "id": "vSrXiT_AbQ6e"
   },
   "outputs": [
    {
     "data": {
      "application/vnd.jupyter.widget-view+json": {
       "model_id": "5408e4d0f49d4a28b85ccbfd69d0dd92",
       "version_major": 2,
       "version_minor": 0
      },
      "text/plain": [
       "0it [00:00, ?it/s]"
      ]
     },
     "metadata": {},
     "output_type": "display_data"
    },
    {
     "data": {
      "text/plain": [
       "10000"
      ]
     },
     "execution_count": 27,
     "metadata": {},
     "output_type": "execute_result"
    }
   ],
   "source": [
    "# Make predictions across all test data\n",
    "from tqdm.auto import tqdm\n",
    "\n",
    "model_gpu.eval()\n",
    "y_preds = []\n",
    "with torch.inference_mode():\n",
    "    for batch, (X, y) in tqdm(enumerate(test_dataloader)):\n",
    "        # Make sure data on right device\n",
    "        X, y = X.to(device), y.to(device)\n",
    "        # Forward pass\n",
    "        y_pred_logits = model_gpu(X)\n",
    "        # Logits -> Pred probs -> Pred label\n",
    "        y_pred_labels = torch.argmax(torch.softmax(y_pred_logits, dim=1), dim=1)\n",
    "        # Append the labels to the preds list\n",
    "        y_preds.append(y_pred_labels)\n",
    "    y_preds = torch.cat(y_preds).cpu()\n",
    "len(y_preds)\n"
   ]
  },
  {
   "cell_type": "code",
   "execution_count": 28,
   "metadata": {},
   "outputs": [
    {
     "data": {
      "text/plain": [
       "(tensor([7, 2, 1, 0, 4, 1, 4, 9, 5, 9]),\n",
       " tensor([7, 2, 1, 0, 4, 1, 4, 9, 5, 9]))"
      ]
     },
     "execution_count": 28,
     "metadata": {},
     "output_type": "execute_result"
    }
   ],
   "source": [
    "test_data.targets[:10], y_preds[:10]\n"
   ]
  },
  {
   "cell_type": "code",
   "execution_count": 29,
   "metadata": {},
   "outputs": [
    {
     "data": {
      "image/png": "[encoded data removed]",
      "text/plain": [
       "<Figure size 1000x700 with 1 Axes>"
      ]
     },
     "metadata": {},
     "output_type": "display_data"
    }
   ],
   "source": [
    "from torchmetrics import ConfusionMatrix\n",
    "from mlxtend.plotting import plot_confusion_matrix\n",
    "\n",
    "# Setup confusion matrix\n",
    "confmat = ConfusionMatrix(task=\"multiclass\", num_classes=len(class_names))\n",
    "confmat_tensor = confmat(preds=y_preds, target=test_data.targets)\n",
    "\n",
    "# Plot the confusion matrix\n",
    "fix, ax = plot_confusion_matrix(\n",
    "    conf_mat=confmat_tensor.numpy(), class_names=class_names, figsize=(10, 7)\n",
    ")\n"
   ]
  },
  {
   "cell_type": "markdown",
   "metadata": {
    "id": "lj6bDhoWxt2y"
   },
   "source": [
    "## 12. Create a random tensor of shape `[1, 3, 64, 64]` and pass it through a `nn.Conv2d()` layer with various hyperparameter settings (these can be any settings you choose), what do you notice if the `kernel_size` parameter goes up and down?"
   ]
  },
  {
   "cell_type": "code",
   "execution_count": 30,
   "metadata": {
    "id": "leCTsqtSbR5P"
   },
   "outputs": [
    {
     "data": {
      "text/plain": [
       "torch.Size([1, 3, 64, 64])"
      ]
     },
     "execution_count": 30,
     "metadata": {},
     "output_type": "execute_result"
    }
   ],
   "source": [
    "random_tensor = torch.rand([1, 3, 64, 64])\n",
    "random_tensor.shape\n"
   ]
  },
  {
   "cell_type": "code",
   "execution_count": 31,
   "metadata": {},
   "outputs": [
    {
     "name": "stdout",
     "output_type": "stream",
     "text": [
      "Random tensor original shape: torch.Size([1, 3, 64, 64])\n",
      "Random tensor through conv layer shape: torch.Size([1, 64, 32, 32])\n"
     ]
    }
   ],
   "source": [
    "conv_layer = nn.Conv2d(in_channels=3, out_channels=64, kernel_size=3, stride=2, padding=1)\n",
    "\n",
    "print(f\"Random tensor original shape: {random_tensor.shape}\")\n",
    "random_tensor_through_conv_layer = conv_layer(random_tensor)\n",
    "print(f\"Random tensor through conv layer shape: {random_tensor_through_conv_layer.shape}\")\n"
   ]
  },
  {
   "cell_type": "markdown",
   "metadata": {
    "id": "VHS20cNTxwSi"
   },
   "source": [
    "## 13. Use a model similar to the trained `model_2` from notebook 03 to make predictions on the test [`torchvision.datasets.FashionMNIST`](https://pytorch.org/vision/main/generated/torchvision.datasets.FashionMNIST.html) dataset. \n",
    "* Then plot some predictions where the model was wrong alongside what the label of the image should've been. \n",
    "* After visualing these predictions do you think it's more of a modelling error or a data error? \n",
    "* As in, could the model do better or are the labels of the data too close to each other (e.g. a \"Shirt\" label is too close to \"T-shirt/top\")?"
   ]
  },
  {
   "cell_type": "code",
   "execution_count": 32,
   "metadata": {
    "id": "78a8LjtdbSZj"
   },
   "outputs": [
    {
     "name": "stdout",
     "output_type": "stream",
     "text": [
      "Downloading http://fashion-mnist.s3-website.eu-central-1.amazonaws.com/train-images-idx3-ubyte.gz\n",
      "Downloading http://fashion-mnist.s3-website.eu-central-1.amazonaws.com/train-images-idx3-ubyte.gz to .\\FashionMNIST\\raw\\train-images-idx3-ubyte.gz\n"
     ]
    },
    {
     "name": "stderr",
     "output_type": "stream",
     "text": [
      "100%|\u2588\u2588\u2588\u2588\u2588\u2588\u2588\u2588\u2588\u2588| 26421880/26421880 [00:13<00:00, 1961352.27it/s]\n"
     ]
    },
    {
     "name": "stdout",
     "output_type": "stream",
     "text": [
      "Extracting .\\FashionMNIST\\raw\\train-images-idx3-ubyte.gz to .\\FashionMNIST\\raw\n",
      "\n",
      "Downloading http://fashion-mnist.s3-website.eu-central-1.amazonaws.com/train-labels-idx1-ubyte.gz\n",
      "Downloading http://fashion-mnist.s3-website.eu-central-1.amazonaws.com/train-labels-idx1-ubyte.gz to .\\FashionMNIST\\raw\\train-labels-idx1-ubyte.gz\n"
     ]
    },
    {
     "name": "stderr",
     "output_type": "stream",
     "text": [
      "100%|\u2588\u2588\u2588\u2588\u2588\u2588\u2588\u2588\u2588\u2588| 29515/29515 [00:00<00:00, 136666.85it/s]\n"
     ]
    },
    {
     "name": "stdout",
     "output_type": "stream",
     "text": [
      "Extracting .\\FashionMNIST\\raw\\train-labels-idx1-ubyte.gz to .\\FashionMNIST\\raw\n",
      "\n",
      "Downloading http://fashion-mnist.s3-website.eu-central-1.amazonaws.com/t10k-images-idx3-ubyte.gz\n",
      "Downloading http://fashion-mnist.s3-website.eu-central-1.amazonaws.com/t10k-images-idx3-ubyte.gz to .\\FashionMNIST\\raw\\t10k-images-idx3-ubyte.gz\n"
     ]
    },
    {
     "name": "stderr",
     "output_type": "stream",
     "text": [
      "100%|\u2588\u2588\u2588\u2588\u2588\u2588\u2588\u2588\u2588\u2588| 4422102/4422102 [00:05<00:00, 756216.30it/s]\n"
     ]
    },
    {
     "name": "stdout",
     "output_type": "stream",
     "text": [
      "Extracting .\\FashionMNIST\\raw\\t10k-images-idx3-ubyte.gz to .\\FashionMNIST\\raw\n",
      "\n",
      "Downloading http://fashion-mnist.s3-website.eu-central-1.amazonaws.com/t10k-labels-idx1-ubyte.gz\n",
      "Downloading http://fashion-mnist.s3-website.eu-central-1.amazonaws.com/t10k-labels-idx1-ubyte.gz to .\\FashionMNIST\\raw\\t10k-labels-idx1-ubyte.gz\n"
     ]
    },
    {
     "name": "stderr",
     "output_type": "stream",
     "text": [
      "100%|\u2588\u2588\u2588\u2588\u2588\u2588\u2588\u2588\u2588\u2588| 5148/5148 [00:00<00:00, 2547460.71it/s]"
     ]
    },
    {
     "name": "stdout",
     "output_type": "stream",
     "text": [
      "Extracting .\\FashionMNIST\\raw\\t10k-labels-idx1-ubyte.gz to .\\FashionMNIST\\raw\n",
      "\n"
     ]
    },
    {
     "name": "stderr",
     "output_type": "stream",
     "text": [
      "\n"
     ]
    },
    {
     "data": {
      "text/plain": [
       "(60000, 10000)"
      ]
     },
     "execution_count": 32,
     "metadata": {},
     "output_type": "execute_result"
    }
   ],
   "source": [
    "# Download FashionMNIST train & test\n",
    "from torchvision import datasets\n",
    "from torchvision import transforms\n",
    "\n",
    "fashion_mnist_train = datasets.FashionMNIST(\n",
    "    root=\".\", download=True, train=True, transform=transforms.ToTensor()\n",
    ")\n",
    "\n",
    "fashion_mnist_test = datasets.FashionMNIST(\n",
    "    root=\".\", train=False, download=True, transform=transforms.ToTensor()\n",
    ")\n",
    "\n",
    "len(fashion_mnist_train), len(fashion_mnist_test)\n"
   ]
  },
  {
   "cell_type": "code",
   "execution_count": 33,
   "metadata": {},
   "outputs": [
    {
     "data": {
      "text/plain": [
       "['T-shirt/top',\n",
       " 'Trouser',\n",
       " 'Pullover',\n",
       " 'Dress',\n",
       " 'Coat',\n",
       " 'Sandal',\n",
       " 'Shirt',\n",
       " 'Sneaker',\n",
       " 'Bag',\n",
       " 'Ankle boot']"
      ]
     },
     "execution_count": 33,
     "metadata": {},
     "output_type": "execute_result"
    }
   ],
   "source": [
    "# Get the class names of the Fashion MNIST dataset\n",
    "fashion_mnist_class_names = fashion_mnist_train.classes\n",
    "fashion_mnist_class_names\n"
   ]
  },
  {
   "cell_type": "code",
   "execution_count": 34,
   "metadata": {},
   "outputs": [
    {
     "data": {
      "text/plain": [
       "(1875, 313)"
      ]
     },
     "execution_count": 34,
     "metadata": {},
     "output_type": "execute_result"
    }
   ],
   "source": [
    "# Turn FashionMNIST datasets into dataloaders\n",
    "from torch.utils.data import DataLoader\n",
    "\n",
    "fashion_mnist_train_dataloader = DataLoader(fashion_mnist_train, batch_size=32, shuffle=True)\n",
    "\n",
    "fashion_mnist_test_dataloader = DataLoader(fashion_mnist_test, batch_size=32, shuffle=False)\n",
    "\n",
    "len(fashion_mnist_train_dataloader), len(fashion_mnist_test_dataloader)\n"
   ]
  },
  {
   "cell_type": "code",
   "execution_count": 35,
   "metadata": {},
   "outputs": [
    {
     "data": {
      "text/plain": [
       "MNIST_model(\n",
       "  (conv_block_1): Sequential(\n",
       "    (0): Conv2d(1, 10, kernel_size=(3, 3), stride=(1, 1), padding=(1, 1))\n",
       "    (1): ReLU()\n",
       "    (2): Conv2d(10, 10, kernel_size=(3, 3), stride=(1, 1), padding=(1, 1))\n",
       "    (3): ReLU()\n",
       "    (4): MaxPool2d(kernel_size=2, stride=2, padding=0, dilation=1, ceil_mode=False)\n",
       "  )\n",
       "  (conv_block_2): Sequential(\n",
       "    (0): Conv2d(10, 10, kernel_size=(3, 3), stride=(1, 1), padding=(1, 1))\n",
       "    (1): ReLU()\n",
       "    (2): Conv2d(10, 10, kernel_size=(3, 3), stride=(1, 1), padding=(1, 1))\n",
       "    (3): ReLU()\n",
       "    (4): MaxPool2d(kernel_size=2, stride=2, padding=0, dilation=1, ceil_mode=False)\n",
       "  )\n",
       "  (classifier): Sequential(\n",
       "    (0): Flatten(start_dim=1, end_dim=-1)\n",
       "    (1): Linear(in_features=490, out_features=10, bias=True)\n",
       "  )\n",
       ")"
      ]
     },
     "execution_count": 35,
     "metadata": {},
     "output_type": "execute_result"
    }
   ],
   "source": [
    "# model_2 is the same architecture as MNIST_model\n",
    "model_2 = MNIST_model(input_shape=1, hidden_units=10, output_shape=10).to(device)\n",
    "model_2\n"
   ]
  },
  {
   "cell_type": "code",
   "execution_count": 36,
   "metadata": {},
   "outputs": [],
   "source": [
    "# Setup loss and optimizer\n",
    "from torch import nn\n",
    "\n",
    "loss_fn = nn.CrossEntropyLoss()\n",
    "optimizer = torch.optim.SGD(model_2.parameters(), lr=0.01)\n"
   ]
  },
  {
   "cell_type": "code",
   "execution_count": 37,
   "metadata": {},
   "outputs": [
    {
     "data": {
      "application/vnd.jupyter.widget-view+json": {
       "model_id": "6c8c6034ad834558a9f0403bcf5f6de5",
       "version_major": 2,
       "version_minor": 0
      },
      "text/plain": [
       "  0%|          | 0/5 [00:00<?, ?it/s]"
      ]
     },
     "metadata": {},
     "output_type": "display_data"
    },
    {
     "name": "stdout",
     "output_type": "stream",
     "text": [
      "Epoch: 0 | Train loss: 1.678 | Train acc: 0.38 | Test loss: 223.606 | Test acc: 0.74\n",
      "Epoch: 1 | Train loss: 0.583 | Train acc: 0.79 | Test loss: 158.779 | Test acc: 0.82\n",
      "Epoch: 2 | Train loss: 0.456 | Train acc: 0.84 | Test loss: 140.849 | Test acc: 0.84\n",
      "Epoch: 3 | Train loss: 0.405 | Train acc: 0.85 | Test loss: 124.580 | Test acc: 0.86\n",
      "Epoch: 4 | Train loss: 0.376 | Train acc: 0.86 | Test loss: 128.258 | Test acc: 0.85\n"
     ]
    }
   ],
   "source": [
    "# Setup metrics\n",
    "from tqdm.auto import tqdm\n",
    "from torchmetrics import Accuracy\n",
    "\n",
    "acc_fn = Accuracy(num_classes=len(fashion_mnist_class_names), task=\"multiclass\").to(device)\n",
    "\n",
    "# Setup training/testing loop\n",
    "epochs = 5\n",
    "for epoch in tqdm(range(epochs)):\n",
    "    train_loss, test_loss_total = 0, 0\n",
    "    train_acc, test_acc = 0, 0\n",
    "\n",
    "    ### Training\n",
    "    model_2.train()\n",
    "    for batch, (X_train, y_train) in enumerate(fashion_mnist_train_dataloader):\n",
    "        X_train, y_train = X_train.to(device), y_train.to(device)\n",
    "\n",
    "        # Forward pass and loss\n",
    "        y_pred = model_2(X_train)\n",
    "        loss = loss_fn(y_pred, y_train)\n",
    "        train_loss += loss\n",
    "        train_acc += acc_fn(y_pred, y_train)\n",
    "\n",
    "        # Backprop and gradient descent\n",
    "        optimizer.zero_grad()\n",
    "        loss.backward()\n",
    "        optimizer.step()\n",
    "\n",
    "    # Adjust the loss/acc (find the loss/acc per epoch)\n",
    "    train_loss /= len(fashion_mnist_train_dataloader)\n",
    "    train_acc /= len(fashion_mnist_train_dataloader)\n",
    "\n",
    "    ### Testing\n",
    "    model_2.eval()\n",
    "    with torch.inference_mode():\n",
    "        for batch, (X_test, y_test) in enumerate(fashion_mnist_test_dataloader):\n",
    "            X_test, y_test = X_test.to(device), y_test.to(device)\n",
    "\n",
    "            # Forward pass and loss\n",
    "            y_pred_test = model_2(X_test)\n",
    "            test_loss = loss_fn(y_pred_test, y_test)\n",
    "            test_loss_total += test_loss\n",
    "\n",
    "            test_acc += acc_fn(y_pred_test, y_test)\n",
    "\n",
    "        # Adjust the loss/acc (find the loss/acc per epoch)\n",
    "        test_loss /= len(fashion_mnist_test_dataloader)\n",
    "        test_acc /= len(fashion_mnist_test_dataloader)\n",
    "\n",
    "    # Print out what's happening\n",
    "    print(\n",
    "        f\"Epoch: {epoch} | Train loss: {train_loss:.3f} | Train acc: {train_acc:.2f} | Test loss: {test_loss_total:.3f} | Test acc: {test_acc:.2f}\"\n",
    "    )\n"
   ]
  },
  {
   "cell_type": "code",
   "execution_count": 38,
   "metadata": {},
   "outputs": [
    {
     "data": {
      "application/vnd.jupyter.widget-view+json": {
       "model_id": "65530f0374a44dd3a27c17fac747886d",
       "version_major": 2,
       "version_minor": 0
      },
      "text/plain": [
       "  0%|          | 0/313 [00:00<?, ?it/s]"
      ]
     },
     "metadata": {},
     "output_type": "display_data"
    },
    {
     "data": {
      "text/plain": [
       "(tensor([9, 2, 1, 1, 6, 1, 4, 6, 5, 7]), 10000)"
      ]
     },
     "execution_count": 38,
     "metadata": {},
     "output_type": "execute_result"
    }
   ],
   "source": [
    "# Make predictions with trained model_2\n",
    "test_preds = []\n",
    "model_2.eval()\n",
    "with torch.inference_mode():\n",
    "    for X_test, y_test in tqdm(fashion_mnist_test_dataloader):\n",
    "        y_logits = model_2(X_test.to(device))\n",
    "        y_pred_probs = torch.softmax(y_logits, dim=1)\n",
    "        y_pred_labels = torch.argmax(y_pred_probs, dim=1)\n",
    "        test_preds.append(y_pred_labels)\n",
    "test_preds = torch.cat(test_preds).cpu()  # matplotlib likes CPU\n",
    "test_preds[:10], len(test_preds)\n"
   ]
  },
  {
   "cell_type": "code",
   "execution_count": 39,
   "metadata": {},
   "outputs": [
    {
     "data": {
      "text/plain": [
       "1482"
      ]
     },
     "execution_count": 39,
     "metadata": {},
     "output_type": "execute_result"
    }
   ],
   "source": [
    "# Get wrong prediction indexes\n",
    "import numpy as np\n",
    "\n",
    "wrong_pred_indexes = np.where(test_preds != fashion_mnist_test.targets)[0]\n",
    "len(wrong_pred_indexes)\n"
   ]
  },
  {
   "cell_type": "code",
   "execution_count": 40,
   "metadata": {},
   "outputs": [
    {
     "data": {
      "image/png": "[encoded data removed]",
      "text/plain": [
       "<Figure size 1000x1000 with 9 Axes>"
      ]
     },
     "metadata": {},
     "output_type": "display_data"
    }
   ],
   "source": [
    "# Select random 9 wrong predictions and plot them\n",
    "import random\n",
    "\n",
    "random_selection = random.sample(list(wrong_pred_indexes), k=9)\n",
    "\n",
    "plt.figure(figsize=(10, 10))\n",
    "for i, idx in enumerate(random_selection):\n",
    "    # Get true and pred labels\n",
    "    true_label = fashion_mnist_class_names[fashion_mnist_test[idx][1]]\n",
    "    pred_label = fashion_mnist_class_names[test_preds[idx]]\n",
    "\n",
    "    # Plot the wrong prediction with its original label\n",
    "    plt.subplot(3, 3, i + 1)\n",
    "    plt.imshow(fashion_mnist_test[idx][0].squeeze(), cmap=\"gray\")\n",
    "    plt.title(f\"True: {true_label} | Pred: {pred_label}\", c=\"r\")\n",
    "    plt.axis(False)\n"
   ]
  }
 ],
 "metadata": {
  "accelerator": "GPU",
  "colab": {
   "authorship_tag": "ABX9TyMUsDcN/+FAm9Pf7Ifqs6AZ",
   "collapsed_sections": [],
   "include_colab_link": true,
   "name": "03_pytorch_computer_vision_exercises.ipynb",
   "provenance": []
  },
  "kernelspec": {
   "display_name": "Python 3",
   "name": "python3"
  },
  "language_info": {
   "codemirror_mode": {
    "name": "ipython",
    "version": 3
   },
   "file_extension": ".py",
   "mimetype": "text/x-python",
   "name": "python",
   "nbconvert_exporter": "python",
   "pygments_lexer": "ipython3",
   "version": "3.9.13"
  }
 },
 "nbformat": 4,
 "nbformat_minor": 0
}